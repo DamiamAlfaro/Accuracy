{
  "nbformat": 4,
  "nbformat_minor": 0,
  "metadata": {
    "colab": {
      "provenance": [],
      "authorship_tag": "ABX9TyPxPAcHN+xCLg4bSB0KFTgQ",
      "include_colab_link": true
    },
    "kernelspec": {
      "name": "python3",
      "display_name": "Python 3"
    },
    "language_info": {
      "name": "python"
    }
  },
  "cells": [
    {
      "cell_type": "markdown",
      "metadata": {
        "id": "view-in-github",
        "colab_type": "text"
      },
      "source": [
        "<a href=\"https://colab.research.google.com/github/DamiamAlfaro/Sonder/blob/main/MA/PIEESearchCodes.ipynb\" target=\"_parent\"><img src=\"https://colab.research.google.com/assets/colab-badge.svg\" alt=\"Open In Colab\"/></a>"
      ]
    },
    {
      "cell_type": "code",
      "execution_count": 6,
      "metadata": {
        "id": "VQWPEwDc2gyg"
      },
      "outputs": [],
      "source": [
        "from google.colab import files\n",
        "import pandas as pd\n",
        "#files.upload()\n",
        "\n",
        "initialFile = \"file\"\n"
      ]
    },
    {
      "cell_type": "code",
      "source": [
        "with open(initialFile, 'r') as f:\n",
        "  data = f.read()\n",
        "\n",
        "cleanData = data.split('\\n')\n",
        "\n",
        "for i in cleanData:\n",
        "  if \"AIR\" in i:\n",
        "    print(i)"
      ],
      "metadata": {
        "id": "oF0q46m63Y4f"
      },
      "execution_count": null,
      "outputs": []
    }
  ]
}