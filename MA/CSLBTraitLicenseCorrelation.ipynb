{
  "nbformat": 4,
  "nbformat_minor": 0,
  "metadata": {
    "colab": {
      "provenance": [],
      "authorship_tag": "ABX9TyNAu5m4X2fIKt8u03vnpLqT",
      "include_colab_link": true
    },
    "kernelspec": {
      "name": "python3",
      "display_name": "Python 3"
    },
    "language_info": {
      "name": "python"
    }
  },
  "cells": [
    {
      "cell_type": "markdown",
      "metadata": {
        "id": "view-in-github",
        "colab_type": "text"
      },
      "source": [
        "<a href=\"https://colab.research.google.com/github/DamiamAlfaro/Sonder/blob/main/MA/CSLBTraitLicenseCorrelation.ipynb\" target=\"_parent\"><img src=\"https://colab.research.google.com/assets/colab-badge.svg\" alt=\"Open In Colab\"/></a>"
      ]
    },
    {
      "cell_type": "code",
      "execution_count": 89,
      "metadata": {
        "id": "BqJH1TcrYp0o"
      },
      "outputs": [],
      "source": [
        "import requests\n",
        "from bs4 import BeautifulSoup\n",
        "import pandas as pd\n",
        "import re\n",
        "from google.colab import files\n",
        "#files.upload()\n",
        "import openpyxl\n"
      ]
    },
    {
      "cell_type": "code",
      "source": [
        "url = \"https://www.cslb.ca.gov/about_us/library/licensing_classifications/\"\n",
        "response = requests.get(url)\n",
        "\n",
        "soup = BeautifulSoup(response.content, 'html.parser')\n",
        "\n",
        "links = soup.find_all('a', href=lambda href: href and \"Licensing_Classifications_Detail.aspx?Class=\" in href)\n",
        "\n",
        "hrefs = [link['href'] for link in links]\n",
        "\n",
        "licenseTexts = []\n",
        "\n",
        "for license in hrefs[4:]:\n",
        "  licensePage = url + license\n",
        "  linkResponse = requests.get(licensePage)\n",
        "  souping = BeautifulSoup(linkResponse.content, 'html.parser')\n",
        "  section = souping.find(\"div\", class_=\"main-primary\")\n",
        "  paragraphs = section.find_all(\"p\")\n",
        "  text = [paragraph.get_text() for paragraph in paragraphs]\n",
        "  licenseTexts.append(text)"
      ],
      "metadata": {
        "id": "hCIXq9S_cfzj"
      },
      "execution_count": 68,
      "outputs": []
    },
    {
      "cell_type": "code",
      "source": [
        "cleanedLicenseTexts = []\n",
        "\n",
        "for licenseText in licenseTexts:\n",
        "  cleansing = []\n",
        "  for paragraph in licenseText:\n",
        "    cleanedString = paragraph.replace(\"\\n\", \"\").replace(\"\\t\", \"\").replace(\"\\r\", \"\").replace(\"            \",\" \")\n",
        "    cleansing.append(cleanedString)\n",
        "  cleanedLicenseTexts.append(cleansing)"
      ],
      "metadata": {
        "id": "6mt2Bc3uqovs"
      },
      "execution_count": 79,
      "outputs": []
    },
    {
      "cell_type": "code",
      "source": [
        "excelFile = \"CSLBTraitLicensCorrelation.xlsx\"\n",
        "excel = openpyxl.load_workbook(excelFile)\n",
        "worksheet = excel.active\n",
        "startRow = 1\n",
        "startColumn = 3\n",
        "\n",
        "for row_index, row_data in enumerate(cleanedLicenseTexts, start=startRow):\n",
        "    for col_index, value in enumerate(row_data, start=startColumn):\n",
        "        worksheet.cell(row=row_index, column=col_index, value=value)\n",
        "\n",
        "excel.save(excelFile)\n"
      ],
      "metadata": {
        "id": "0B7xEUnc0H_R"
      },
      "execution_count": 95,
      "outputs": []
    }
  ]
}