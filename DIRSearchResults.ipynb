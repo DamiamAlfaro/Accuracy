{
  "nbformat": 4,
  "nbformat_minor": 0,
  "metadata": {
    "colab": {
      "provenance": [],
      "authorship_tag": "ABX9TyNJyWBawDB0+neTCPbVKeWe",
      "include_colab_link": true
    },
    "kernelspec": {
      "name": "python3",
      "display_name": "Python 3"
    },
    "language_info": {
      "name": "python"
    }
  },
  "cells": [
    {
      "cell_type": "markdown",
      "metadata": {
        "id": "view-in-github",
        "colab_type": "text"
      },
      "source": [
        "<a href=\"https://colab.research.google.com/github/DamiamAlfaro/Accuracy/blob/main/DIRSearchResults.ipynb\" target=\"_parent\"><img src=\"https://colab.research.google.com/assets/colab-badge.svg\" alt=\"Open In Colab\"/></a>"
      ]
    },
    {
      "cell_type": "code",
      "execution_count": 27,
      "metadata": {
        "id": "rgLnifG3hsCz"
      },
      "outputs": [],
      "source": [
        "import openpyxl\n",
        "import re\n",
        "from openpyxl.styles import numbers\n",
        "from google.colab import files\n",
        "\n",
        "#upload = files.upload()"
      ]
    },
    {
      "cell_type": "code",
      "source": [
        "\"\"\"\n",
        "Initial Raw Text File: Breaking down the file by project\n",
        "\"\"\"\n",
        "def ReadingFile(self):\n",
        "  with open(self,\"r\") as file:\n",
        "    read = file.read()\n",
        "\n",
        "  projects = read.split(\"Project Number:\")\n",
        "  return projects"
      ],
      "metadata": {
        "id": "AnGKhvpZiPON"
      },
      "execution_count": 3,
      "outputs": []
    },
    {
      "cell_type": "code",
      "source": [
        "\"\"\"\n",
        "Breaking down each project into attributes:\n",
        "I.e. Address, Name, Number, Amount, etc.\n",
        "\"\"\"\n",
        "def Stratifying(self):\n",
        "  attributes = []\n",
        "  for attribute in self:\n",
        "    attributes.append(attribute.split(\"\\n\"))\n",
        "  return attributes"
      ],
      "metadata": {
        "id": "CLPF-P7CjXRj"
      },
      "execution_count": 4,
      "outputs": []
    },
    {
      "cell_type": "code",
      "source": [
        "\"\"\"\n",
        "UglyList: just a list with every single\n",
        "attribute within projects in no order.\n",
        "\"\"\"\n",
        "def UglyList(self):\n",
        "  uglyList = []\n",
        "  for i in self:\n",
        "    for j in i:\n",
        "      uglyList.append(j)\n",
        "\n",
        "  newList = [item for item in uglyList if item != \"\"]\n",
        "  return newList"
      ],
      "metadata": {
        "id": "Xu3QdSs0qV8T"
      },
      "execution_count": 5,
      "outputs": []
    },
    {
      "cell_type": "code",
      "source": [
        "\"\"\"\n",
        "Identifying the subcontractors: analyzing\n",
        "patterns in numbers and lengths of strings.\n",
        "\"\"\"\n",
        "entities = []\n",
        "def Entities(self):\n",
        "  for sub in self:\n",
        "    if sub[0].isdigit():\n",
        "      entitiesInvolved = sub.split(\"\\t\")\n",
        "      if len(entitiesInvolved) > 1:\n",
        "        entities.append(entitiesInvolved)\n",
        "      else:\n",
        "        continue\n",
        "    else:\n",
        "      continue\n",
        "\n",
        "  return entities\n"
      ],
      "metadata": {
        "id": "fkh2Dtsrkwe0"
      },
      "execution_count": 6,
      "outputs": []
    },
    {
      "cell_type": "code",
      "source": [
        "\"\"\"\n",
        "A literal version of all entities,\n",
        "basically a list containing all entities\n",
        "and their respective ID numbers.\n",
        "\"\"\"\n",
        "def EntitiesCleaned(self):\n",
        "  entitiesCleaned = []\n",
        "  for i in self:\n",
        "    for j in i:\n",
        "      entitiesCleaned.append(j)\n",
        "  return entitiesCleaned"
      ],
      "metadata": {
        "id": "k8H2Y0Z51fxv"
      },
      "execution_count": 7,
      "outputs": []
    },
    {
      "cell_type": "code",
      "source": [
        "\"\"\"\n",
        "We want to correlate the amounts with the subcontractor\n",
        "entities, but the thing is that they are unorganized,\n",
        "we want to put them together so the lengths correlate.\n",
        "\"\"\"\n",
        "def ReconfiguringEntities(self):\n",
        "    collecting = False\n",
        "    start_marker = \"PWCR/CSLB/Lic\\tName\\tPWCR/CSLB/Lic\\tName\"\n",
        "    end_marker = \"DIR Project\"\n",
        "    collected_groups = []\n",
        "    current_group = []\n",
        "\n",
        "    for item in self:\n",
        "      if item == start_marker:\n",
        "          collecting = True\n",
        "          current_group = []\n",
        "          continue\n",
        "\n",
        "      if collecting:\n",
        "          if item == end_marker:\n",
        "              current_group.append(item)\n",
        "              collected_groups.append(current_group)\n",
        "              collecting = False\n",
        "          else:\n",
        "              current_group.append(item)\n",
        "\n",
        "    if collecting:\n",
        "        collected_groups.append(current_group)\n",
        "\n",
        "    return collected_groups\n",
        "\n",
        "\n",
        "\n"
      ],
      "metadata": {
        "id": "Em4RXiGyvAmR"
      },
      "execution_count": 59,
      "outputs": []
    },
    {
      "cell_type": "code",
      "source": [
        "\"\"\"\n",
        "Takes stratified entities list from\n",
        "above and returns a clean one with\n",
        "entities correlated with their respective\n",
        "project.\n",
        "\"\"\"\n",
        "def CorrelatedEntities(self):\n",
        "  stratifyingEntitiesList = [[item for item in sublist if \"\\t\" in item]\n",
        "                       for sublist in self]\n",
        "\n",
        "  cleanEntitiesList = [[item2.split(\"\\t\") for item2 in sublist2]\n",
        "                       for sublist2 in stratifyingEntitiesList]\n",
        "\n",
        "\n",
        "  return cleanEntitiesList"
      ],
      "metadata": {
        "id": "fQSsDlnYLxwR"
      },
      "execution_count": 69,
      "outputs": []
    },
    {
      "cell_type": "code",
      "source": [
        "\"\"\"\n",
        "Getting Amount of projects: we need to know\n",
        "where did the entities involved helped the GC.\n",
        "\"\"\"\n",
        "def ProjectAmount(self):\n",
        "  amounts = []\n",
        "  for attribute in range(len(self)):\n",
        "    if self[attribute] == \"Amount:\":\n",
        "      amount1 = self[attribute+1].split(\"\\t\")\n",
        "      amount2 = amount1[0][1:]\n",
        "      amount3 = amount2.replace(\",\",\"\")\n",
        "      amounts.append(float(amount3))\n",
        "  return amounts"
      ],
      "metadata": {
        "id": "LKmNFwSOp2Ye"
      },
      "execution_count": 9,
      "outputs": []
    },
    {
      "cell_type": "code",
      "source": [
        "\"\"\"\n",
        "\n",
        "NOT IN USE\n",
        "\n",
        "Excel allocation: Allocating all to excel for\n",
        "visual analysis.\n",
        "\"\"\"\n",
        "def ExcelEntityAllocation(self):\n",
        "  workbook = openpyxl.Workbook()\n",
        "  sheet = workbook.active\n",
        "  sheet.title = \"DictionaryData\"\n",
        "  row_a = 1\n",
        "  row_b = 1\n",
        "\n",
        "  for index, item in enumerate(self):\n",
        "    if (index % 2) == 0:\n",
        "        sheet.cell(row=row_a, column=1, value=item)\n",
        "        row_a += 1\n",
        "    else:\n",
        "        sheet.cell(row=row_b, column=2, value=item)\n",
        "        row_b += 1\n",
        "\n",
        "  #workbook.save(\"Entities.xlsx\")\n",
        "  #files.download(\"Entities.xlsx\")\n"
      ],
      "metadata": {
        "id": "du6HRF1Q2PJo"
      },
      "execution_count": 76,
      "outputs": []
    },
    {
      "cell_type": "code",
      "source": [
        "\"\"\"\n",
        "NOT IN USE\n",
        "\n",
        "Allocating Amounts: Eventually corralting them\n",
        "with the other attributes.\n",
        "\n",
        "\"\"\"\n",
        "def AmountAllocation(self):\n",
        "  workbook = openpyxl.Workbook()\n",
        "  sheet = workbook.active\n",
        "  sheet.title = \"AmountData\"\n",
        "  currency_format = numbers.BUILTIN_FORMATS[44]\n",
        "\n",
        "  for index, value in enumerate(self, start=1):\n",
        "    cell = sheet.cell(row=index, column=1, value=value)\n",
        "    cell.number_format = currency_format\n",
        "\n",
        "  # Save the workbook\n",
        "  #workbook.save('FormattedCurrencyExcel.xlsx')\n",
        "  #files.download('FormattedCurrencyExcel.xlsx')"
      ],
      "metadata": {
        "id": "nb99b7o5KKb_"
      },
      "execution_count": 11,
      "outputs": []
    },
    {
      "cell_type": "code",
      "source": [
        "\"\"\"\n",
        "\n",
        "NOT IN USE\n",
        "\n",
        "We want to find patterns in order to\n",
        "collect accuratly each attribute, therefore\n",
        "we need to have them in an unorganized\n",
        "list first; just as as all data is at\n",
        "the beginning by the way, the cunning trait\n",
        "here is to organize it.\n",
        "\"\"\"\n",
        "def AttributesAllocation(self):\n",
        "  workbook = openpyxl.Workbook()\n",
        "  sheet = workbook.active\n",
        "  sheet.title = \"AttributesData\"\n",
        "  for index, value in enumerate(self,start=1):\n",
        "    cell = sheet.cell(row=index,column=1, value=value)\n",
        "\n",
        "  workbook.save(\"AttributeAllocation.xlsx\")\n",
        "  files.download(\"AttributeAllocation.xlsx\")"
      ],
      "metadata": {
        "id": "45oPWWgcS-Co"
      },
      "execution_count": 81,
      "outputs": []
    },
    {
      "cell_type": "code",
      "source": [
        "\"\"\"\n",
        "Luckily, we found that we can collect\n",
        "three attributes at a time: DIR No,\n",
        "Awarding Bodies, and Name of the Project.\n",
        "\"\"\"\n",
        "def DirAwardingBodiesName(self):\n",
        "  DirAndAwardingBodies = []\n",
        "  workbook = openpyxl.Workbook()\n",
        "  sheet = workbook.active\n",
        "  sheet.tile = \"DIRABNamesData\"\n",
        "  for index in self:\n",
        "    if \"ID:\" in index:\n",
        "      stratification = index.split(\"\\t\")\n",
        "      DirAndAwardingBodies.append(stratification)\n",
        "  return DirAndAwardingBodies\n"
      ],
      "metadata": {
        "id": "El72qMLenar9"
      },
      "execution_count": 13,
      "outputs": []
    },
    {
      "cell_type": "code",
      "source": [
        "\"\"\"\n",
        "We want to know which projects are we\n",
        "talking about, right?\n",
        "\"\"\"\n",
        "def LocationsAllocation(self):\n",
        "  Locations = []\n",
        "  workbook = openpyxl.Workbook()\n",
        "  sheet = workbook.active\n",
        "  sheet.title = \"LocationsData\"\n",
        "  for index in self:\n",
        "    if \"Advertised:\" in index:\n",
        "      Locations.append(index.split(\"\\t\")[-2])\n",
        "\n",
        "  return Locations"
      ],
      "metadata": {
        "id": "-HEo7EhFxlnX"
      },
      "execution_count": 19,
      "outputs": []
    },
    {
      "cell_type": "code",
      "source": [
        "\"\"\"\n",
        "Hitting DIR Numbers, Awarding bodies, Project\n",
        "Names, Amounts, and Locations with one shot.\n",
        "\"\"\"\n",
        "def FiveBirdsOneHit(self,locations,amounts,entities):\n",
        "  majorList = [self,locations,amounts]\n",
        "  workbook = openpyxl.Workbook()\n",
        "  sheet = workbook.active\n",
        "  sheet.title = \"HitData\"\n",
        "  currency_format = numbers.BUILTIN_FORMATS[44]\n",
        "  DIRNumber, amounts, locations = majorList[0], majorList[1], majorList[2]\n",
        "\n",
        "  for index, person in enumerate(DIRNumber):\n",
        "    sheet.cell(row=index + 1, column=1, value=person[0])\n",
        "    sheet.cell(row=index + 1, column=2, value=person[1])\n",
        "    sheet.cell(row=index + 1, column=3, value=person[2])\n",
        "\n",
        "    if index < len(amounts):\n",
        "        sheet.cell(row=index + 1, column=4, value=amounts[index]\n",
        "                   ).number_format = currency_format\n",
        "\n",
        "    if index < len(locations):\n",
        "        sheet.cell(row=index + 1, column=5, value=locations[index])\n",
        "\n",
        "    if index < len(entities):\n",
        "      combined_entities = []\n",
        "      for sublist in entities[index]:\n",
        "        paired_entities = [\"{} {}\".format(sublist[i],\n",
        "                                          sublist[i+1]) if\n",
        "                           i + 1 < len(sublist) else sublist[i]\n",
        "                           for i in range(0, len(sublist), 2)]\n",
        "        combined_entities.extend(paired_entities)\n",
        "      for sub_index,entity in enumerate(combined_entities):\n",
        "        sheet.cell(row=index + 1, column=6 + sub_index, value=entity)\n",
        "\n",
        "  workbook.save(\"FiveHitsOneStone.xlsx\")\n",
        "  files.download(\"FiveHitsOneStone.xlsx\")\n"
      ],
      "metadata": {
        "id": "k2cfhxmB1Na7"
      },
      "execution_count": 79,
      "outputs": []
    },
    {
      "cell_type": "code",
      "source": [
        "initialFile = \"Testing-AllBirdsHit.txt\"\n",
        "\n",
        "\"\"\"\n",
        "Defines variables for the usable functions.\n",
        "\"\"\"\n",
        "brokenDownProjects1 = Stratifying(ReadingFile(initialFile))\n",
        "AllAttributesList1 = UglyList(brokenDownProjects1)\n",
        "\n",
        "\"\"\"\n",
        "Attains all necessary attributes for\n",
        "research: Amounts, Locations, and Correlated\n",
        "Entities, Awarding Bodies, Project IDs, and\n",
        "Project Names.\n",
        "\"\"\"\n",
        "Amounts1 = ProjectAmount(AllAttributesList1)\n",
        "DAN1 = DirAwardingBodiesName(AllAttributesList1)\n",
        "Locations1 = LocationsAllocation(AllAttributesList1)\n",
        "EntitiesCorrelated = CorrelatedEntities(\n",
        "    ReconfiguringEntities(AllAttributesList1))\n",
        "\n",
        "FiveBirdsOneHit(DAN1,Amounts1,Locations1,EntitiesCorrelated)\n"
      ],
      "metadata": {
        "colab": {
          "base_uri": "https://localhost:8080/",
          "height": 17
        },
        "id": "-TRP2UpgikLn",
        "outputId": "f3de5df7-56ac-4066-9904-2695eaf1c0b8"
      },
      "execution_count": 80,
      "outputs": [
        {
          "output_type": "display_data",
          "data": {
            "text/plain": [
              "<IPython.core.display.Javascript object>"
            ],
            "application/javascript": [
              "\n",
              "    async function download(id, filename, size) {\n",
              "      if (!google.colab.kernel.accessAllowed) {\n",
              "        return;\n",
              "      }\n",
              "      const div = document.createElement('div');\n",
              "      const label = document.createElement('label');\n",
              "      label.textContent = `Downloading \"${filename}\": `;\n",
              "      div.appendChild(label);\n",
              "      const progress = document.createElement('progress');\n",
              "      progress.max = size;\n",
              "      div.appendChild(progress);\n",
              "      document.body.appendChild(div);\n",
              "\n",
              "      const buffers = [];\n",
              "      let downloaded = 0;\n",
              "\n",
              "      const channel = await google.colab.kernel.comms.open(id);\n",
              "      // Send a message to notify the kernel that we're ready.\n",
              "      channel.send({})\n",
              "\n",
              "      for await (const message of channel.messages) {\n",
              "        // Send a message to notify the kernel that we're ready.\n",
              "        channel.send({})\n",
              "        if (message.buffers) {\n",
              "          for (const buffer of message.buffers) {\n",
              "            buffers.push(buffer);\n",
              "            downloaded += buffer.byteLength;\n",
              "            progress.value = downloaded;\n",
              "          }\n",
              "        }\n",
              "      }\n",
              "      const blob = new Blob(buffers, {type: 'application/binary'});\n",
              "      const a = document.createElement('a');\n",
              "      a.href = window.URL.createObjectURL(blob);\n",
              "      a.download = filename;\n",
              "      div.appendChild(a);\n",
              "      a.click();\n",
              "      div.remove();\n",
              "    }\n",
              "  "
            ]
          },
          "metadata": {}
        },
        {
          "output_type": "display_data",
          "data": {
            "text/plain": [
              "<IPython.core.display.Javascript object>"
            ],
            "application/javascript": [
              "download(\"download_8eebdab5-d147-4eba-b342-5944817659ee\", \"FiveHitsOneStone.xlsx\", 32642)"
            ]
          },
          "metadata": {}
        }
      ]
    }
  ]
}