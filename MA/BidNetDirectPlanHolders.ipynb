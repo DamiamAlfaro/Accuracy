{
  "nbformat": 4,
  "nbformat_minor": 0,
  "metadata": {
    "colab": {
      "provenance": [],
      "authorship_tag": "ABX9TyMYlkv4pHHnFoA5gNxRxhaP",
      "include_colab_link": true
    },
    "kernelspec": {
      "name": "python3",
      "display_name": "Python 3"
    },
    "language_info": {
      "name": "python"
    }
  },
  "cells": [
    {
      "cell_type": "markdown",
      "metadata": {
        "id": "view-in-github",
        "colab_type": "text"
      },
      "source": [
        "<a href=\"https://colab.research.google.com/github/DamiamAlfaro/Sonder/blob/main/MA/BidNetDirectPlanHolders.ipynb\" target=\"_parent\"><img src=\"https://colab.research.google.com/assets/colab-badge.svg\" alt=\"Open In Colab\"/></a>"
      ]
    },
    {
      "cell_type": "code",
      "execution_count": null,
      "metadata": {
        "id": "3WzUsYNtpoo6"
      },
      "outputs": [],
      "source": [
        "import openpyxl\n",
        "import pandas as pd\n",
        "from google.colab import files\n",
        "#uploaded = files.upload()"
      ]
    },
    {
      "cell_type": "code",
      "source": [
        "Bidnetdirect = \"BidNetDirectSubIntel (1).txt\"\n",
        "with open(Bidnetdirect, 'r') as file:\n",
        "  data = file.read()\n",
        "\n",
        "print(data)"
      ],
      "metadata": {
        "collapsed": true,
        "id": "aZcPEFnNqD0b"
      },
      "execution_count": null,
      "outputs": []
    },
    {
      "cell_type": "code",
      "source": [
        "attributes = data.split(\"\\n\")\n",
        "df = pd.DataFrame(attributes)\n",
        "new_file = \"bidnet.xlsx\"\n",
        "df.to_excel(new_file,header=False,index=False)\n",
        "files.download(new_file)"
      ],
      "metadata": {
        "id": "XvJrHVRWq27R"
      },
      "execution_count": null,
      "outputs": []
    },
    {
      "cell_type": "code",
      "source": [
        "entities = []\n",
        "entity = []\n",
        "for i in attributes:\n",
        "  if \"\\t\" not in i:\n",
        "    entity.append(i)\n",
        "  else:\n",
        "    entities.append(entity)\n",
        "    entity = []\n",
        "\n",
        "cleaned_entities = entities[1:]\n",
        "\n",
        "beginning_summaries = [j for j in attributes if \"\\t\" in j]\n",
        "cleaned_summaries = beginning_summaries[:-1]\n",
        "\n",
        "for r in range(len(cleaned_summaries)):\n",
        "  cleaned_entities[r].insert(0,cleaned_summaries[r])\n"
      ],
      "metadata": {
        "id": "cEl-s6nI2i2U"
      },
      "execution_count": null,
      "outputs": []
    },
    {
      "cell_type": "code",
      "source": [
        "outlier_attribute = beginning_summaries[-1]\n",
        "outlier_index = [attributes.index(naming) for naming in attributes if outlier_attribute == naming]\n",
        "x = len(attributes)-outlier_index[0]\n",
        "outlier = [attributes[-x:]]\n",
        "cleaned_entities.append(outlier[0])"
      ],
      "metadata": {
        "id": "HdHiHm6rA0LD"
      },
      "execution_count": null,
      "outputs": []
    },
    {
      "cell_type": "code",
      "source": [
        "cleaned_entities"
      ],
      "metadata": {
        "id": "sLdXZvtWG2of"
      },
      "execution_count": 1,
      "outputs": []
    }
  ]
}