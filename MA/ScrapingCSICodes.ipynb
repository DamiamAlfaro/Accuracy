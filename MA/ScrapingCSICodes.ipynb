{
  "nbformat": 4,
  "nbformat_minor": 0,
  "metadata": {
    "colab": {
      "provenance": [],
      "authorship_tag": "ABX9TyPlWsDAXxslqfO7Cyeqzwoa",
      "include_colab_link": true
    },
    "kernelspec": {
      "name": "python3",
      "display_name": "Python 3"
    },
    "language_info": {
      "name": "python"
    }
  },
  "cells": [
    {
      "cell_type": "markdown",
      "metadata": {
        "id": "view-in-github",
        "colab_type": "text"
      },
      "source": [
        "<a href=\"https://colab.research.google.com/github/DamiamAlfaro/Sonder/blob/main/MA/ScrapingCSICodes.ipynb\" target=\"_parent\"><img src=\"https://colab.research.google.com/assets/colab-badge.svg\" alt=\"Open In Colab\"/></a>"
      ]
    },
    {
      "cell_type": "code",
      "execution_count": 36,
      "metadata": {
        "id": "zeIkIngEHwU-"
      },
      "outputs": [],
      "source": [
        "import requests\n",
        "from bs4 import BeautifulSoup\n",
        "import openpyxl\n",
        "import pandas as pd"
      ]
    },
    {
      "cell_type": "code",
      "source": [
        "url = \"https://www.abc.org/Membership/MasterFormat-CSI-Codes-NAICS-Codes/CSI-Codes\"\n",
        "\n",
        "response = requests.get(url)\n",
        "html_content = response.content\n",
        "soup = BeautifulSoup(html_content, \"html.parser\")\n",
        "\n",
        "sectionNumber = soup.find_all('a',class_=\"numCase\")\n",
        "sectionTitle = soup.find_all('a',class_=\"CSIdescr\")\n",
        "\n",
        "sectionNumbers = [sectionNumber[i].text for i in range(len(sectionNumber))]\n",
        "sectionTitles = [sectionTitle[i].text for i in range(len(sectionTitle))]\n",
        "\n",
        "print(sectionNumbers)\n",
        "print(sectionTitles)"
      ],
      "metadata": {
        "colab": {
          "base_uri": "https://localhost:8080/"
        },
        "id": "yEmEvB0JpNpp",
        "outputId": "88ab1c9e-492d-4b05-9708-0bf99f426083"
      },
      "execution_count": 39,
      "outputs": [
        {
          "output_type": "stream",
          "name": "stdout",
          "text": [
            "['00 00 00', '01 00 00', '02 00 00', '03 00 00', '04 00 00', '05 00 00', '06 00 00', '07 00 00', '08 00 00', '09 00 00', '10 00 00', '11 00 00', '12 00 00', '13 00 00', '14 00 00', '21 00 00', '22 00 00', '23 00 00', '25 00 00', '26 00 00', '27 00 00', '28 00 00', '31 00 00', '32 00 00', '33 00 00', '34 00 00', '35 00 00', '40 00 00', '41 00 00', '42 00 00', '43 00 00', '44 00 00', '45 00 00', '46 00 00', '48 00 00']\n",
            "['Procurement and Contracting Requirements', 'General Requirements', 'Existing Conditions', 'Concrete', 'Masonry', 'Metals', 'Wood, Plastics, and Composites', 'Thermal and Moisture Protection', 'Openings', 'Finishes', 'Specialties', 'Equipment', 'Furnishings', 'Special Construction', 'Conveying Equipment', 'Fire Suppression', 'Plumbing', 'Heating, Ventilating, and Air Conditioning (HVAC)', 'Integrated Automation', 'Electrical', 'Communications', 'Electronic Safety and Security', 'Earthwork', 'Exterior Improvements', 'Utilities', 'Transportation', 'Waterway and Marine Construction', 'Process Integration', 'Material Processing and Handling Equipment', 'Process Heating, Cooling, and Drying Equipment', 'Process Gas and Liquid Handling, Purification, and Storage Equipment', 'Pollution and Waste Control Equipment', 'Industry-Specific Manufacturing Equipment', 'Water and Wastewater Equipment', 'Electrical Power Generation']\n"
          ]
        }
      ]
    }
  ]
}