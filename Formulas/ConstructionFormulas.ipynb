{
  "nbformat": 4,
  "nbformat_minor": 0,
  "metadata": {
    "colab": {
      "provenance": [],
      "authorship_tag": "ABX9TyO+NmQ95m+wss/4XqIjyOYH",
      "include_colab_link": true
    },
    "kernelspec": {
      "name": "python3",
      "display_name": "Python 3"
    },
    "language_info": {
      "name": "python"
    }
  },
  "cells": [
    {
      "cell_type": "markdown",
      "metadata": {
        "id": "view-in-github",
        "colab_type": "text"
      },
      "source": [
        "<a href=\"https://colab.research.google.com/github/DamiamAlfaro/Sonder/blob/main/Formulas/ConstructionFormulas.ipynb\" target=\"_parent\"><img src=\"https://colab.research.google.com/assets/colab-badge.svg\" alt=\"Open In Colab\"/></a>"
      ]
    },
    {
      "cell_type": "code",
      "source": [
        "import math\n",
        "from fractions import Fraction"
      ],
      "metadata": {
        "id": "gw1jvHCeMFQA"
      },
      "execution_count": 17,
      "outputs": []
    },
    {
      "cell_type": "code",
      "execution_count": 37,
      "metadata": {
        "id": "leDUOEx17Jov"
      },
      "outputs": [],
      "source": [
        "class Export():\n",
        "  \"\"\"\n",
        "  NEED gettingTrucksperHour()\n",
        "\n",
        "  This is based on an entrenched set of\n",
        "  days that cannot be changed. I.e. the product\n",
        "  of the estimating department at a construction\n",
        "  company.\n",
        "  \"\"\"\n",
        "  def TrucksPerHourSimple(tons, type_truck, days):\n",
        "    # tH\n",
        "    trucksanHour = float(((tons/type_truck)/days))/8\n",
        "    # tf\n",
        "    minutesperTruck = float(60/trucksanHour)\n",
        "    message = f\"\\n{minutesperTruck:.2f} Minutes per Truck\"\n",
        "    message += f\"\\n{trucksanHour:.2f} Trucks per Hour\"\n",
        "    return message\n",
        "  \"\"\"\n",
        "  NEED gettingTrucksperHour()\n",
        "\n",
        "  EXCEL\n",
        "  This is also based on an entrenched set of\n",
        "  numbers, but in this case we will use it to compare\n",
        "  it with our ExperimentingRates() function. We will\n",
        "  allocate the percentage difference in comparision with\n",
        "  our ExperimentingRates() function and our entrenched\n",
        "  numbers.\n",
        "  \"\"\"\n",
        "  def TrucksPerHourComplex(tons, type_truck, days):\n",
        "    messages = []\n",
        "    # r\n",
        "    # NA\n",
        "    # tS\n",
        "    tS = round(float(tons/(days*8*60*60)),2)\n",
        "    messagetS = f\"{tS} Seconds per Ton\"\n",
        "    messages.append(messagetS)\n",
        "    # rM\n",
        "    rM = round(float(tons/(days*8*60)),2)\n",
        "    messagerM = f\"{rM} Tons per Minute\"\n",
        "    messages.append(messagerM)\n",
        "    # rH\n",
        "    rH = round(float(tons/(days*8)),2)\n",
        "    messagerH = f\"{rH} Tons per Hour\"\n",
        "    messages.append(messagerH)\n",
        "    # R\n",
        "    R = round(float(days * 8),2)\n",
        "    messageR = f\"{R} Hours needed to export all material\"\n",
        "    messages.append(messageR)\n",
        "    # D\n",
        "    D = round(float(days),2)\n",
        "    messageD = f\"{D} Days needed to export all material\"\n",
        "    messages.append(messageD)\n",
        "    # tH\n",
        "    tH = round(float(((tons/type_truck)/days))/8,2)\n",
        "    messagetH = f\"{tH} Trucks per Hour\"\n",
        "    messages.append(messagetH)\n",
        "    # tf\n",
        "    tf = round(float(60/tH),2)\n",
        "    messagetf = f\"{tf} Minutes per Truck\"\n",
        "    messages.append(messagetf)\n",
        "\n",
        "    for message in messages:\n",
        "      print(message)\n",
        "\n",
        "    return messages, tS, rM, rH, R, D, tf, tH\n",
        "\n",
        "  \"\"\"\n",
        "  SERVING TrucksPerHourSimple() & TrucksPerHourComplex()\n",
        "  \"\"\"\n",
        "  def gettingTrucksperHour():\n",
        "    t = float(input(\"Total Tons: \"))\n",
        "    T = float(input(\"Truck Tonage: \"))\n",
        "    d = float(input(\"Days: \"))\n",
        "    return t, T, d\n",
        "\n",
        "  \"\"\"\n",
        "  EXCEL\n",
        "  c = scoop capacity\n",
        "  t = time to do a scoop\n",
        "  T = total tonage needed to be exported\n",
        "  Tt = truck tonage (superten or truck and transfer)\n",
        "  r = ratio of the two\n",
        "  tS = tons per second\n",
        "  rM = rate of tons per minute\n",
        "  rH = rate of tons per hour\n",
        "  R = hours needed to export all the tons\n",
        "  D = days needed to export all the tons\n",
        "  tf = time for truck fully loaded (minutes)\n",
        "  tH = total trucks capable to be filled in an hour\n",
        "  \"\"\"\n",
        "  def ExperimentingRates():\n",
        "    # How much tons fit on an excavator's scoop\n",
        "    c = float(input(\"Scoop capacity (tons): \"))\n",
        "    # The time the operator takes to do a scoop\n",
        "    t = float(input(\"Time to do a scoop (seconds): \"))\n",
        "    # Total tonage needed to be exported\n",
        "    T = float(input(\"Total tonage needed to be exported (tons): \"))\n",
        "    # Truck tonage (superten or truck and transfer)\n",
        "    Tt = float(input(\"Truck tonage (superten or truck and transfer): \"))\n",
        "    truckType = \"\"\n",
        "    if 20.0 <= Tt <= 27.0:\n",
        "      truckType = \"Truck and Transfer\"\n",
        "    elif 14.0 <= Tt <= 19.0:\n",
        "      truckType = \"Superten\"\n",
        "    else:\n",
        "      truckType = \"Unknown\"\n",
        "    \"\"\"\n",
        "    Rate per tonage\n",
        "    \"\"\"\n",
        "    # r: tons/seconds (tonage quantity per second)\n",
        "    r = round(c/t, 2)\n",
        "    # tS: Total time (seconds) for ton (time per ton)\n",
        "    tS = round(t/c, 2)\n",
        "    # rM: tons/minute\n",
        "    rM = round(r * 60, 2)\n",
        "    # rH: tons/hour\n",
        "    rH = round(r * 3600, 2)\n",
        "    # R: Hours needed to export all material\n",
        "    R = round(T/rH, 2)\n",
        "    # D: Days needed to export all material\n",
        "    D = round(R/8, 2)\n",
        "    \"\"\"\n",
        "    Rate per Truck\n",
        "    \"\"\"\n",
        "    # Time (minutes) needed to fill a truck\n",
        "    tf = round(Tt/rM, 2)\n",
        "    # n Trucks an hour\n",
        "    tH = round(60/tf, 2)\n",
        "\n",
        "    return r, tS, rM, rH, R, D, tf, tH, truckType\n",
        "\n",
        "  \"\"\"\n",
        "\n",
        "  NEED ExperimentingRates()\n",
        "\n",
        "  Displays the results of ExperimentingRates() in a\n",
        "  aesthetically pleasing manner.\n",
        "  \"\"\"\n",
        "  def ExperimentingRatesPretty(r,tS,rM,rH,R,D,tf,tH,truckType):\n",
        "    messages = []\n",
        "    # r\n",
        "    messager = f\"{r} Tons per Second\"\n",
        "    messages.append(messager)\n",
        "    # tS\n",
        "    messagetS = f\"{tS} Seconds per Ton\"\n",
        "    messages.append(messagetS)\n",
        "    # rM\n",
        "    messagerM = f\"{rM} Tons per Minute\"\n",
        "    messages.append(messagerM)\n",
        "    # rH\n",
        "    messagerH = f\"{rH} Tons per Hour\"\n",
        "    messages.append(messagerH)\n",
        "    # R\n",
        "    messagerR = f\"{R} Hours needed to export all material\"\n",
        "    messages.append(messagerR)\n",
        "    # D\n",
        "    messagerD = f\"{D} Days needed to export all material\"\n",
        "    messages.append(messagerD)\n",
        "    # tf\n",
        "    messagetF = f\"{tf} Minutes per Truck ({truckType})\"\n",
        "    messages.append(messagetF)\n",
        "    # tH\n",
        "    messagetH = f\"{tH} Trucks per Hour\"\n",
        "    messages.append(messagetH)\n",
        "\n",
        "\n",
        "    for message in messages:\n",
        "      print(message)\n",
        "\n",
        "\n",
        "  \"\"\"\n",
        "  We will be comparing our entrenched numbers (from\n",
        "  estimating) with our calculated numbers (how we\n",
        "  expect to approach the problem).\n",
        "  \"\"\"\n",
        "  def ComparingRates():\n",
        "    pass\n",
        "\n",
        "\n",
        "  def ExportScenario():\n",
        "    pass"
      ]
    },
    {
      "cell_type": "code",
      "source": [
        "print(\"Superten\")\n",
        "superten = Export.TrucksPerHourSimple(*Export.gettingTrucksperHour())\n",
        "print(f\"{superten}\\n\")"
      ],
      "metadata": {
        "colab": {
          "base_uri": "https://localhost:8080/"
        },
        "id": "37rOGOPF8C8m",
        "outputId": "eb8ccd82-4001-4efb-a2ce-b51e7c9116b1"
      },
      "execution_count": 10,
      "outputs": [
        {
          "output_type": "stream",
          "name": "stdout",
          "text": [
            "Superten\n",
            "Total Tons: 10208\n",
            "Truck Tonage: 17\n",
            "Days: 10\n",
            "\n",
            "7.99 Minutes per Truck\n",
            "7.51 Trucks per Hour\n",
            "\n"
          ]
        }
      ]
    },
    {
      "cell_type": "code",
      "source": [
        "print(\"Truck and Transfer\")\n",
        "truckandtransfer = Export.TrucksPerHourSimple(*Export.gettingTrucksperHour())\n",
        "print(f\"{truckandtransfer}\\n\")"
      ],
      "metadata": {
        "colab": {
          "base_uri": "https://localhost:8080/"
        },
        "id": "fYVdSApv8H7p",
        "outputId": "5152ea02-9b35-4ab4-c3d2-cafd59fdf426"
      },
      "execution_count": 11,
      "outputs": [
        {
          "output_type": "stream",
          "name": "stdout",
          "text": [
            "Truck and Transfer\n",
            "Total Tons: 10208\n",
            "Truck Tonage: 25\n",
            "Days: 10\n",
            "\n",
            "11.76 Minutes per Truck\n",
            "5.10 Trucks per Hour\n",
            "\n"
          ]
        }
      ]
    },
    {
      "cell_type": "code",
      "source": [
        "print(\"Rate\")\n",
        "rates = Export.ExperimentingRates()\n",
        "print(rates)\n",
        "Export.ExperimentingRatesPretty(*rates)"
      ],
      "metadata": {
        "colab": {
          "base_uri": "https://localhost:8080/"
        },
        "id": "4FQ1RLIp8DEb",
        "outputId": "c8730120-d0c7-4616-e51a-3c53558bedbe"
      },
      "execution_count": 33,
      "outputs": [
        {
          "output_type": "stream",
          "name": "stdout",
          "text": [
            "Rate\n",
            "Scoop capacity (tons): 5\n",
            "Time to do a scoop (seconds): 40\n",
            "Total tonage needed to be exported (tons): 10208\n",
            "Truck tonage (superten or truck and transfer): 17\n",
            "(0.12, 8.0, 7.2, 432.0, 23.63, 2.95, 2.36, 25.42, 'Superten')\n",
            "0.12 Tons per Second\n",
            "8.0 Seconds per Ton\n",
            "7.2 Tons per Minute\n",
            "432.0 Tons per Hour\n",
            "23.63 Hours needed to export all material\n",
            "2.95 Days needed to export all material\n",
            "2.36 Minutes per Truck (Superten)\n",
            "25.42 Trucks per Hour\n"
          ]
        }
      ]
    },
    {
      "cell_type": "code",
      "source": [
        "Export.TrucksPerHourComplex(*Export.gettingTrucksperHour())"
      ],
      "metadata": {
        "colab": {
          "base_uri": "https://localhost:8080/"
        },
        "id": "Yh7zNfZSOXjf",
        "outputId": "86a01030-aff3-4143-d18f-a7edbaecc6de"
      },
      "execution_count": 38,
      "outputs": [
        {
          "output_type": "stream",
          "name": "stdout",
          "text": [
            "Total Tons: 10208\n",
            "Truck Tonage: 17\n",
            "Days: 10\n",
            "0.04 Seconds per Ton\n",
            "2.13 Tons per Minute\n",
            "127.6 Tons per Hour\n",
            "80.0 Hours needed to export all material\n",
            "10.0 Days needed to export all material\n",
            "7.51 Trucks per Hour\n",
            "7.99 Minutes per Truck\n"
          ]
        },
        {
          "output_type": "execute_result",
          "data": {
            "text/plain": [
              "(['0.04 Seconds per Ton',\n",
              "  '2.13 Tons per Minute',\n",
              "  '127.6 Tons per Hour',\n",
              "  '80.0 Hours needed to export all material',\n",
              "  '10.0 Days needed to export all material',\n",
              "  '7.51 Trucks per Hour',\n",
              "  '7.99 Minutes per Truck'],\n",
              " 0.04,\n",
              " 2.13,\n",
              " 127.6,\n",
              " 80.0,\n",
              " 10.0,\n",
              " 7.99,\n",
              " 7.51)"
            ]
          },
          "metadata": {},
          "execution_count": 38
        }
      ]
    }
  ]
}