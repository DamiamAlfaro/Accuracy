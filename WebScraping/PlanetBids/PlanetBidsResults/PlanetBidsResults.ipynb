{
  "nbformat": 4,
  "nbformat_minor": 0,
  "metadata": {
    "colab": {
      "provenance": [],
      "authorship_tag": "ABX9TyPydO0eUW+pFJjJ9lO5VRhX",
      "include_colab_link": true
    },
    "kernelspec": {
      "name": "python3",
      "display_name": "Python 3"
    },
    "language_info": {
      "name": "python"
    }
  },
  "cells": [
    {
      "cell_type": "markdown",
      "metadata": {
        "id": "view-in-github",
        "colab_type": "text"
      },
      "source": [
        "<a href=\"https://colab.research.google.com/github/DamiamAlfaro/Sonder/blob/main/WebScraping/PlanetBids/PlanetBidsResults.ipynb\" target=\"_parent\"><img src=\"https://colab.research.google.com/assets/colab-badge.svg\" alt=\"Open In Colab\"/></a>"
      ]
    },
    {
      "cell_type": "code",
      "source": [
        "!pip install selenium\n",
        "!apt-get update # to update Ubuntu to correctly run apt install\n",
        "!apt install -y chromium-chromedriver\n",
        "!pip install beautifulsoup4\n",
        "!pip install lxml\n",
        "!which chromium-browser\n",
        "!which chromedriver"
      ],
      "metadata": {
        "colab": {
          "base_uri": "https://localhost:8080/"
        },
        "id": "w4DXW15-pmZM",
        "outputId": "70897dff-5d30-4fe5-93c8-e59aaef489d5"
      },
      "execution_count": 65,
      "outputs": [
        {
          "output_type": "stream",
          "name": "stdout",
          "text": [
            "Requirement already satisfied: selenium in /usr/local/lib/python3.10/dist-packages (4.21.0)\n",
            "Requirement already satisfied: urllib3[socks]<3,>=1.26 in /usr/local/lib/python3.10/dist-packages (from selenium) (2.0.7)\n",
            "Requirement already satisfied: trio~=0.17 in /usr/local/lib/python3.10/dist-packages (from selenium) (0.25.1)\n",
            "Requirement already satisfied: trio-websocket~=0.9 in /usr/local/lib/python3.10/dist-packages (from selenium) (0.11.1)\n",
            "Requirement already satisfied: certifi>=2021.10.8 in /usr/local/lib/python3.10/dist-packages (from selenium) (2024.6.2)\n",
            "Requirement already satisfied: typing_extensions>=4.9.0 in /usr/local/lib/python3.10/dist-packages (from selenium) (4.12.1)\n",
            "Requirement already satisfied: attrs>=23.2.0 in /usr/local/lib/python3.10/dist-packages (from trio~=0.17->selenium) (23.2.0)\n",
            "Requirement already satisfied: sortedcontainers in /usr/local/lib/python3.10/dist-packages (from trio~=0.17->selenium) (2.4.0)\n",
            "Requirement already satisfied: idna in /usr/local/lib/python3.10/dist-packages (from trio~=0.17->selenium) (3.7)\n",
            "Requirement already satisfied: outcome in /usr/local/lib/python3.10/dist-packages (from trio~=0.17->selenium) (1.3.0.post0)\n",
            "Requirement already satisfied: sniffio>=1.3.0 in /usr/local/lib/python3.10/dist-packages (from trio~=0.17->selenium) (1.3.1)\n",
            "Requirement already satisfied: exceptiongroup in /usr/local/lib/python3.10/dist-packages (from trio~=0.17->selenium) (1.2.1)\n",
            "Requirement already satisfied: wsproto>=0.14 in /usr/local/lib/python3.10/dist-packages (from trio-websocket~=0.9->selenium) (1.2.0)\n",
            "Requirement already satisfied: pysocks!=1.5.7,<2.0,>=1.5.6 in /usr/local/lib/python3.10/dist-packages (from urllib3[socks]<3,>=1.26->selenium) (1.7.1)\n",
            "Requirement already satisfied: h11<1,>=0.9.0 in /usr/local/lib/python3.10/dist-packages (from wsproto>=0.14->trio-websocket~=0.9->selenium) (0.14.0)\n",
            "Hit:1 http://security.ubuntu.com/ubuntu jammy-security InRelease\n",
            "Hit:2 http://archive.ubuntu.com/ubuntu jammy InRelease\n",
            "Hit:3 https://cloud.r-project.org/bin/linux/ubuntu jammy-cran40/ InRelease\n",
            "Hit:4 http://archive.ubuntu.com/ubuntu jammy-updates InRelease\n",
            "Hit:5 https://developer.download.nvidia.com/compute/cuda/repos/ubuntu2204/x86_64  InRelease\n",
            "Hit:6 http://archive.ubuntu.com/ubuntu jammy-backports InRelease\n",
            "Hit:7 https://dl.google.com/linux/chrome/deb stable InRelease\n",
            "Hit:8 https://ppa.launchpadcontent.net/c2d4u.team/c2d4u4.0+/ubuntu jammy InRelease\n",
            "Hit:9 https://ppa.launchpadcontent.net/deadsnakes/ppa/ubuntu jammy InRelease\n",
            "Hit:10 https://ppa.launchpadcontent.net/graphics-drivers/ppa/ubuntu jammy InRelease\n",
            "Hit:11 https://ppa.launchpadcontent.net/ubuntugis/ppa/ubuntu jammy InRelease\n",
            "Reading package lists... Done\n",
            "Reading package lists... Done\n",
            "Building dependency tree... Done\n",
            "Reading state information... Done\n",
            "chromium-chromedriver is already the newest version (1:85.0.4183.83-0ubuntu2.22.04.1).\n",
            "0 upgraded, 0 newly installed, 0 to remove and 49 not upgraded.\n",
            "Requirement already satisfied: beautifulsoup4 in /usr/local/lib/python3.10/dist-packages (4.12.3)\n",
            "Requirement already satisfied: soupsieve>1.2 in /usr/local/lib/python3.10/dist-packages (from beautifulsoup4) (2.5)\n",
            "Requirement already satisfied: lxml in /usr/local/lib/python3.10/dist-packages (4.9.4)\n",
            "/usr/bin/chromium-browser\n",
            "/usr/local/bin/chromedriver\n"
          ]
        }
      ]
    },
    {
      "cell_type": "code",
      "source": [
        "import sys\n",
        "from selenium import webdriver\n",
        "from selenium.webdriver.chrome.service import Service\n",
        "from selenium.webdriver.chrome.options import Options\n",
        "from bs4 import BeautifulSoup\n",
        "\n",
        "# Set up the WebDriver options for Colab\n",
        "options = Options()\n",
        "options.add_argument('--headless')\n",
        "options.add_argument('--no-sandbox')\n",
        "options.add_argument('--disable-dev-shm-usage')\n",
        "options.add_argument('--disable-gpu')\n",
        "options.add_argument('--remote-debugging-port=9222')\n",
        "options.binary_location = '/usr/bin/chromium-browser'\n",
        "\n",
        "# Verify the binary location and chromedriver paths\n",
        "print(\"Chromium binary location:\", options.binary_location)\n",
        "print(\"Chromedriver location:\", \"/usr/bin/chromedriver\")\n",
        "\n",
        "# Set up the ChromeDriver service\n",
        "chrome_service = Service('/usr/bin/chromedriver')\n",
        "\n",
        "# Initialize the WebDriver\n",
        "driver = webdriver.Chrome(service=chrome_service, options=options)\n"
      ],
      "metadata": {
        "colab": {
          "base_uri": "https://localhost:8080/",
          "height": 356
        },
        "id": "bekjrEWjpWyQ",
        "outputId": "206a1fce-d03e-4c7a-b81e-efaafa89778a"
      },
      "execution_count": 66,
      "outputs": [
        {
          "output_type": "stream",
          "name": "stdout",
          "text": [
            "Chromium binary location: /usr/bin/chromium-browser\n",
            "Chromedriver location: /usr/bin/chromedriver\n"
          ]
        },
        {
          "output_type": "error",
          "ename": "WebDriverException",
          "evalue": "Message: Service /usr/bin/chromedriver unexpectedly exited. Status code was: 1\n",
          "traceback": [
            "\u001b[0;31m---------------------------------------------------------------------------\u001b[0m",
            "\u001b[0;31mWebDriverException\u001b[0m                        Traceback (most recent call last)",
            "\u001b[0;32m<ipython-input-66-60368c1cc6a6>\u001b[0m in \u001b[0;36m<cell line: 24>\u001b[0;34m()\u001b[0m\n\u001b[1;32m     22\u001b[0m \u001b[0;34m\u001b[0m\u001b[0m\n\u001b[1;32m     23\u001b[0m \u001b[0;31m# Initialize the WebDriver\u001b[0m\u001b[0;34m\u001b[0m\u001b[0;34m\u001b[0m\u001b[0m\n\u001b[0;32m---> 24\u001b[0;31m \u001b[0mdriver\u001b[0m \u001b[0;34m=\u001b[0m \u001b[0mwebdriver\u001b[0m\u001b[0;34m.\u001b[0m\u001b[0mChrome\u001b[0m\u001b[0;34m(\u001b[0m\u001b[0mservice\u001b[0m\u001b[0;34m=\u001b[0m\u001b[0mchrome_service\u001b[0m\u001b[0;34m,\u001b[0m \u001b[0moptions\u001b[0m\u001b[0;34m=\u001b[0m\u001b[0moptions\u001b[0m\u001b[0;34m)\u001b[0m\u001b[0;34m\u001b[0m\u001b[0;34m\u001b[0m\u001b[0m\n\u001b[0m",
            "\u001b[0;32m/usr/local/lib/python3.10/dist-packages/selenium/webdriver/chrome/webdriver.py\u001b[0m in \u001b[0;36m__init__\u001b[0;34m(self, options, service, keep_alive)\u001b[0m\n\u001b[1;32m     43\u001b[0m         \u001b[0moptions\u001b[0m \u001b[0;34m=\u001b[0m \u001b[0moptions\u001b[0m \u001b[0;32mif\u001b[0m \u001b[0moptions\u001b[0m \u001b[0;32melse\u001b[0m \u001b[0mOptions\u001b[0m\u001b[0;34m(\u001b[0m\u001b[0;34m)\u001b[0m\u001b[0;34m\u001b[0m\u001b[0;34m\u001b[0m\u001b[0m\n\u001b[1;32m     44\u001b[0m \u001b[0;34m\u001b[0m\u001b[0m\n\u001b[0;32m---> 45\u001b[0;31m         super().__init__(\n\u001b[0m\u001b[1;32m     46\u001b[0m             \u001b[0mbrowser_name\u001b[0m\u001b[0;34m=\u001b[0m\u001b[0mDesiredCapabilities\u001b[0m\u001b[0;34m.\u001b[0m\u001b[0mCHROME\u001b[0m\u001b[0;34m[\u001b[0m\u001b[0;34m\"browserName\"\u001b[0m\u001b[0;34m]\u001b[0m\u001b[0;34m,\u001b[0m\u001b[0;34m\u001b[0m\u001b[0;34m\u001b[0m\u001b[0m\n\u001b[1;32m     47\u001b[0m             \u001b[0mvendor_prefix\u001b[0m\u001b[0;34m=\u001b[0m\u001b[0;34m\"goog\"\u001b[0m\u001b[0;34m,\u001b[0m\u001b[0;34m\u001b[0m\u001b[0;34m\u001b[0m\u001b[0m\n",
            "\u001b[0;32m/usr/local/lib/python3.10/dist-packages/selenium/webdriver/chromium/webdriver.py\u001b[0m in \u001b[0;36m__init__\u001b[0;34m(self, browser_name, vendor_prefix, options, service, keep_alive)\u001b[0m\n\u001b[1;32m     53\u001b[0m \u001b[0;34m\u001b[0m\u001b[0m\n\u001b[1;32m     54\u001b[0m         \u001b[0mself\u001b[0m\u001b[0;34m.\u001b[0m\u001b[0mservice\u001b[0m\u001b[0;34m.\u001b[0m\u001b[0mpath\u001b[0m \u001b[0;34m=\u001b[0m \u001b[0mfinder\u001b[0m\u001b[0;34m.\u001b[0m\u001b[0mget_driver_path\u001b[0m\u001b[0;34m(\u001b[0m\u001b[0;34m)\u001b[0m\u001b[0;34m\u001b[0m\u001b[0;34m\u001b[0m\u001b[0m\n\u001b[0;32m---> 55\u001b[0;31m         \u001b[0mself\u001b[0m\u001b[0;34m.\u001b[0m\u001b[0mservice\u001b[0m\u001b[0;34m.\u001b[0m\u001b[0mstart\u001b[0m\u001b[0;34m(\u001b[0m\u001b[0;34m)\u001b[0m\u001b[0;34m\u001b[0m\u001b[0;34m\u001b[0m\u001b[0m\n\u001b[0m\u001b[1;32m     56\u001b[0m \u001b[0;34m\u001b[0m\u001b[0m\n\u001b[1;32m     57\u001b[0m         executor = ChromiumRemoteConnection(\n",
            "\u001b[0;32m/usr/local/lib/python3.10/dist-packages/selenium/webdriver/common/service.py\u001b[0m in \u001b[0;36mstart\u001b[0;34m(self)\u001b[0m\n\u001b[1;32m    100\u001b[0m         \u001b[0mcount\u001b[0m \u001b[0;34m=\u001b[0m \u001b[0;36m0\u001b[0m\u001b[0;34m\u001b[0m\u001b[0;34m\u001b[0m\u001b[0m\n\u001b[1;32m    101\u001b[0m         \u001b[0;32mwhile\u001b[0m \u001b[0;32mTrue\u001b[0m\u001b[0;34m:\u001b[0m\u001b[0;34m\u001b[0m\u001b[0;34m\u001b[0m\u001b[0m\n\u001b[0;32m--> 102\u001b[0;31m             \u001b[0mself\u001b[0m\u001b[0;34m.\u001b[0m\u001b[0massert_process_still_running\u001b[0m\u001b[0;34m(\u001b[0m\u001b[0;34m)\u001b[0m\u001b[0;34m\u001b[0m\u001b[0;34m\u001b[0m\u001b[0m\n\u001b[0m\u001b[1;32m    103\u001b[0m             \u001b[0;32mif\u001b[0m \u001b[0mself\u001b[0m\u001b[0;34m.\u001b[0m\u001b[0mis_connectable\u001b[0m\u001b[0;34m(\u001b[0m\u001b[0;34m)\u001b[0m\u001b[0;34m:\u001b[0m\u001b[0;34m\u001b[0m\u001b[0;34m\u001b[0m\u001b[0m\n\u001b[1;32m    104\u001b[0m                 \u001b[0;32mbreak\u001b[0m\u001b[0;34m\u001b[0m\u001b[0;34m\u001b[0m\u001b[0m\n",
            "\u001b[0;32m/usr/local/lib/python3.10/dist-packages/selenium/webdriver/common/service.py\u001b[0m in \u001b[0;36massert_process_still_running\u001b[0;34m(self)\u001b[0m\n\u001b[1;32m    113\u001b[0m         \u001b[0mreturn_code\u001b[0m \u001b[0;34m=\u001b[0m \u001b[0mself\u001b[0m\u001b[0;34m.\u001b[0m\u001b[0mprocess\u001b[0m\u001b[0;34m.\u001b[0m\u001b[0mpoll\u001b[0m\u001b[0;34m(\u001b[0m\u001b[0;34m)\u001b[0m\u001b[0;34m\u001b[0m\u001b[0;34m\u001b[0m\u001b[0m\n\u001b[1;32m    114\u001b[0m         \u001b[0;32mif\u001b[0m \u001b[0mreturn_code\u001b[0m\u001b[0;34m:\u001b[0m\u001b[0;34m\u001b[0m\u001b[0;34m\u001b[0m\u001b[0m\n\u001b[0;32m--> 115\u001b[0;31m             \u001b[0;32mraise\u001b[0m \u001b[0mWebDriverException\u001b[0m\u001b[0;34m(\u001b[0m\u001b[0;34mf\"Service {self._path} unexpectedly exited. Status code was: {return_code}\"\u001b[0m\u001b[0;34m)\u001b[0m\u001b[0;34m\u001b[0m\u001b[0;34m\u001b[0m\u001b[0m\n\u001b[0m\u001b[1;32m    116\u001b[0m \u001b[0;34m\u001b[0m\u001b[0m\n\u001b[1;32m    117\u001b[0m     \u001b[0;32mdef\u001b[0m \u001b[0mis_connectable\u001b[0m\u001b[0;34m(\u001b[0m\u001b[0mself\u001b[0m\u001b[0;34m)\u001b[0m \u001b[0;34m->\u001b[0m \u001b[0mbool\u001b[0m\u001b[0;34m:\u001b[0m\u001b[0;34m\u001b[0m\u001b[0;34m\u001b[0m\u001b[0m\n",
            "\u001b[0;31mWebDriverException\u001b[0m: Message: Service /usr/bin/chromedriver unexpectedly exited. Status code was: 1\n"
          ]
        }
      ]
    },
    {
      "cell_type": "code",
      "source": [
        "print(soup.prettify())"
      ],
      "metadata": {
        "colab": {
          "base_uri": "https://localhost:8080/"
        },
        "id": "FhZpfQDIrLTS",
        "outputId": "6be2e5f8-27f0-45b4-db5a-c716a70ddca1"
      },
      "execution_count": 61,
      "outputs": [
        {
          "output_type": "stream",
          "name": "stdout",
          "text": [
            "<!DOCTYPE html>\n",
            "<html lang=\"en\">\n",
            " <head>\n",
            "  <meta charset=\"utf-8\"/>\n",
            "  <meta content=\"IE=edge\" http-equiv=\"X-UA-Compatible\"/>\n",
            "  <title>\n",
            "   PlanetBids Vendor Portal\n",
            "  </title>\n",
            "  <meta content=\"\" name=\"description\"/>\n",
            "  <meta content=\"width=device-width, initial-scale=1\" name=\"viewport\"/>\n",
            "  <!-- Start of OG tags -->\n",
            "  <meta content=\"/img/planetBidsLogoOGImage-0565c17a36257c888fee398932ae297e.png\" property=\"og:image\"/>\n",
            "  <meta content=\"/img/planetBidsLogoOGImage-0565c17a36257c888fee398932ae297e.png\" property=\"og:image:secure_url\"/>\n",
            "  <meta content=\"/img/planetBidsLogoOGImage-0565c17a36257c888fee398932ae297e.png\" property=\"twitter:image\"/>\n",
            "  <meta content=\"1200\" property=\"og:image:width\">\n",
            "   <meta content=\"630\" property=\"og:image:height\">\n",
            "    <!-- End of OG tags -->\n",
            "    <!-- Start of favicons -->\n",
            "    <link href=\"/assets/apple-touch-icon-2396dff8324f903e21cae83837e1707b.png\" rel=\"apple-touch-icon\" sizes=\"180x180\"/>\n",
            "    <link href=\"/assets/favicon-32x32-eb8b1044fca0d006e248cb413f286975.png\" rel=\"icon\" sizes=\"32x32\" type=\"image/png\"/>\n",
            "    <link href=\"/assets/favicon-16x16-b8690e429ff77c4d73d06ee82a345923.png\" rel=\"icon\" sizes=\"16x16\" type=\"image/png\"/>\n",
            "    <link href=\"/assets/site.webmanifest\" rel=\"manifest\"/>\n",
            "    <link color=\"#0000d8\" href=\"/assets/safari-pinned-tab.svg\" rel=\"mask-icon\"/>\n",
            "    <meta content=\"#2b5797\" name=\"msapplication-TileColor\"/>\n",
            "    <meta content=\"#ffffff\" name=\"theme-color\"/>\n",
            "    <!-- End of favicons -->\n",
            "    <meta content=\"%7B%22modulePrefix%22%3A%22em-portal%22%2C%22environment%22%3A%22production%22%2C%22rootURL%22%3A%22%2F%22%2C%22locationType%22%3A%22auto%22%2C%22host%22%3A%22https%3A%2F%2Fapi.planetbids.com%22%2C%22ember-simple-auth%22%3A%7B%22routeAfterAuthentication%22%3A%22login-success%22%2C%22routeIfAlreadyAuthenticated%22%3A%22login-success%22%2C%22crossOriginWhitelist%22%3A%5B%22https%3A%2F%2Fapi.planetbids.com%22%5D%7D%2C%22ember-simple-auth-token%22%3A%7B%22tokenPropertyName%22%3A%22data.attributes.accessToken%22%2C%22refreshTokenPropertyName%22%3A%22data.attributes.refreshToken%22%2C%22tokenDataPropertyName%22%3A%22tokenData%22%2C%22refreshAccessTokens%22%3Atrue%2C%22tokenExpirationInvalidateSession%22%3Atrue%2C%22tokenExpireName%22%3A%22exp%22%2C%22refreshLeeway%22%3A60%2C%22serverTokenEndpoint%22%3A%22https%3A%2F%2Fapi.planetbids.com%2Fpapi%2Flogin%22%2C%22serverTokenRefreshEndpoint%22%3A%22https%3A%2F%2Fapi.planetbids.com%2Fpapi%2Frefresh-token%22%7D%2C%22stripe%22%3A%7B%22publishableKey%22%3A%22pk_live_QVJ8RnBD6ynqL7jWD7xYV3nP%22%7D%2C%22portalConfigFlags%22%3A%7B%22disableReloadCheck%22%3Afalse%2C%22fileServerHost%22%3A%22https%3A%2F%2Ffiles-prod01.planetbids.com%22%2C%22fileServerHostPath%22%3A%22D%3A%2FwwwrootPB%22%2C%22webServerHost%22%3A%22https%3A%2F%2Ffiles-prod01.planetbids.com%22%2C%22bidAds%22%3Atrue%2C%22portalOrigin%22%3A%22https%3A%2F%2Fvendors.planetbids.com%22%2C%22vendorlineOrigin%22%3A%22https%3A%2F%2Fvendorline.planetbids.com%22%2C%22bcAttachmentSlotsEnabled%22%3Atrue%2C%22msClarityKey%22%3A%22jz9di38c8j%22%2C%22productFruitsKey%22%3A%22pbJxU3rHuziusumJ%22%2C%22gtmKey%22%3A%22GTM-MDGBVPHW%22%2C%22usermavenKey%22%3Anull%7D%2C%22EmberENV%22%3A%7B%22EXTEND_PROTOTYPES%22%3A%7B%22Date%22%3Afalse%7D%2C%22FEATURES%22%3A%7B%7D%2C%22_APPLICATION_TEMPLATE_WRAPPER%22%3Afalse%2C%22_DEFAULT_ASYNC_OBSERVERS%22%3Atrue%2C%22_JQUERY_INTEGRATION%22%3Afalse%2C%22_TEMPLATE_ONLY_GLIMMER_COMPONENTS%22%3Atrue%7D%2C%22APP%22%3A%7B%22name%22%3A%22em-portal%22%2C%22version%22%3A%221.2.35%2Bed7f12d2%22%7D%2C%22moment%22%3A%7B%22includeTimezone%22%3A%22all%22%7D%2C%22IDLE_TIMEOUT_WARNING%22%3A3000000%2C%22IDLE_TIMEOUT_LOGOUT%22%3A600000%2C%22IDLE_TIMEOUT_AWAY%22%3A600000%2C%22ember-modal-dialog%22%3A%7B%7D%7D\" name=\"em-portal/config/environment\">\n",
            "     <meta content=\"%7B%22modulePrefix%22%3A%22engine-ac%22%2C%22environment%22%3A%22production%22%2C%22ember-modal-dialog%22%3A%7B%7D%7D\" name=\"engine-ac/config/environment\">\n",
            "      <meta content=\"%7B%22modulePrefix%22%3A%22engine-bo%22%2C%22environment%22%3A%22production%22%2C%22ember-modal-dialog%22%3A%7B%7D%7D\" name=\"engine-bo/config/environment\">\n",
            "       <meta content=\"%7B%22modulePrefix%22%3A%22engine-cv%22%2C%22environment%22%3A%22production%22%2C%22ember-modal-dialog%22%3A%7B%7D%7D\" name=\"engine-cv/config/environment\">\n",
            "        <meta content=\"%7B%22modulePrefix%22%3A%22engine-mc%22%2C%22environment%22%3A%22production%22%2C%22ember-modal-dialog%22%3A%7B%7D%7D\" name=\"engine-mc/config/environment\">\n",
            "         <meta content=\"%7B%22modulePrefix%22%3A%22engine-mi%22%2C%22environment%22%3A%22production%22%2C%22ember-modal-dialog%22%3A%7B%7D%7D\" name=\"engine-mi/config/environment\">\n",
            "          <meta content=\"%7B%22modulePrefix%22%3A%22engine-vp%22%2C%22environment%22%3A%22production%22%2C%22ember-modal-dialog%22%3A%7B%7D%7D\" name=\"engine-vp/config/environment\">\n",
            "           <link href=\"/assets/vendor-e419b27b94dbd98105316748e8010a48.css\" integrity=\"\" rel=\"stylesheet\"/>\n",
            "           <link href=\"/assets/em-portal-7085c90253cc446288320ed26f7db523.css\" integrity=\"\" rel=\"stylesheet\"/>\n",
            "           <link href=\"https://fonts.gstatic.com\" rel=\"preconnect\"/>\n",
            "           <link href=\"https://fonts.googleapis.com/css2?family=Ubuntu:wght@300;400;500\" rel=\"stylesheet\"/>\n",
            "           <script src=\"https://js.stripe.com/v3/\">\n",
            "           </script>\n",
            "           <meta content=\"%7B%22bundles%22%3A%7B%22engine-ac%22%3A%7B%22assets%22%3A%5B%7B%22uri%22%3A%22/engines-dist/engine-ac/config/environment-159cc76a86d6b84d8b457a5a383c1358.js%22%2C%22type%22%3A%22js%22%7D%5D%7D%2C%22engine-bo%22%3A%7B%22assets%22%3A%5B%7B%22uri%22%3A%22/engines-dist/engine-bo/config/environment-863e696195e53f88bb9d01c9bc4e112c.js%22%2C%22type%22%3A%22js%22%7D%5D%7D%2C%22engine-cv%22%3A%7B%22assets%22%3A%5B%7B%22uri%22%3A%22/engines-dist/engine-cv/config/environment-d4073ba4f0cd0faa2ef8138acc2ff678.js%22%2C%22type%22%3A%22js%22%7D%5D%7D%2C%22engine-mc%22%3A%7B%22assets%22%3A%5B%7B%22uri%22%3A%22/engines-dist/engine-mc/config/environment-621473e09b6ca1f92ce0d01a660777d0.js%22%2C%22type%22%3A%22js%22%7D%5D%7D%2C%22engine-mi%22%3A%7B%22assets%22%3A%5B%7B%22uri%22%3A%22/engines-dist/engine-mi/config/environment-54b170a252b3da9cd2a0c1f0c65d2b5f.js%22%2C%22type%22%3A%22js%22%7D%5D%7D%2C%22engine-vp%22%3A%7B%22assets%22%3A%5B%7B%22uri%22%3A%22/engines-dist/engine-vp/config/environment-b120d590c81548fd4aaff442d4f69c35.js%22%2C%22type%22%3A%22js%22%7D%5D%7D%7D%7D\" name=\"em-portal/config/asset-manifest\"/>\n",
            "          </meta>\n",
            "         </meta>\n",
            "        </meta>\n",
            "       </meta>\n",
            "      </meta>\n",
            "     </meta>\n",
            "    </meta>\n",
            "   </meta>\n",
            "  </meta>\n",
            " </head>\n",
            " <body>\n",
            "  <script integrity=\"sha256-TRrKWYhHw5VTCJJ1nBIvasjpStuiZPMgFO6lhDtRAm4= sha512-M+7rjhqZtjsoVkICJw70xFtHTQwE7GhC9s2Jp0tPTqPeNwYt7p/7P3PHyzL5aNdzfuVN38Szqq8eb6jpXGgUZQ==\" src=\"/assets/vendor-3eb55338a09e67dd9b83c22e3ff9157b.js\">\n",
            "  </script>\n",
            "  <script integrity=\"sha256-RhobeQXRLhJhsYeuZQuo1Q1EkA3TivwvzWSIZrCpPak= sha512-dIhOpuSoLN2Ex+BK1ANkPDzV63PznUUTtBK3VAcz2+zSj4uqenLcYZXl0hVXPfHuZxFQTXcHyeaW4oVOzuSI/w==\" src=\"/assets/chunk.689.acc588712fd2e5bd01ec.js\">\n",
            "  </script>\n",
            "  <script integrity=\"sha256-MW8P8OWNtTymd972CaMAo7tnA2qSGetMLP8C0IxpTWs= sha512-DWsLLldmFQJQqlorDfaeupz+qbRNMHkWQJhqNSIxtFYJj3q6L4gAlaFlbo1tHzTabWA7I9Vriuo0PXcjGNIWNw==\" src=\"/assets/chunk.143.8a3178962f77436e9861.js\">\n",
            "  </script>\n",
            "  <script integrity=\"sha256-k12upl7oZ4tKVhStnpUwyZvE664QeVxOKyjjgJ0JUfs= sha512-A1pR/nqJUdM78q930rSvhchR3x+gen4JN+5DvmJENponz2830U8VyK5zHIn0zDDRluauj0SaTri33hfB7BActw==\" src=\"/assets/em-portal-6eb9804bc40a17690d78d71f4c1d0962.js\">\n",
            "  </script>\n",
            " </body>\n",
            "</html>\n",
            "\n"
          ]
        }
      ]
    }
  ]
}
