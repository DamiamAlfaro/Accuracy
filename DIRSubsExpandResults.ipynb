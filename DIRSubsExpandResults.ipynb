{
  "nbformat": 4,
  "nbformat_minor": 0,
  "metadata": {
    "colab": {
      "provenance": [],
      "authorship_tag": "ABX9TyNJq6QTimWYYPrMwVugZhik",
      "include_colab_link": true
    },
    "kernelspec": {
      "name": "python3",
      "display_name": "Python 3"
    },
    "language_info": {
      "name": "python"
    }
  },
  "cells": [
    {
      "cell_type": "markdown",
      "metadata": {
        "id": "view-in-github",
        "colab_type": "text"
      },
      "source": [
        "<a href=\"https://colab.research.google.com/github/DamiamAlfaro/Accuracy/blob/main/DIRSubsExpandResults.ipynb\" target=\"_parent\"><img src=\"https://colab.research.google.com/assets/colab-badge.svg\" alt=\"Open In Colab\"/></a>"
      ]
    },
    {
      "cell_type": "code",
      "execution_count": 16,
      "metadata": {
        "id": "dHa66jVKYbMC"
      },
      "outputs": [],
      "source": [
        "import openpyxl\n",
        "from google.colab import files\n",
        "\n",
        "#upload = files.upload()"
      ]
    },
    {
      "cell_type": "code",
      "source": [
        "def GettingCellphones(self,file2):\n",
        "  filea = self\n",
        "  fileb = file2\n",
        "\n",
        "  wb1 = openpyxl.load_workbook(fileb)\n",
        "  sheet1 = wb1.active\n",
        "\n",
        "  result_sheet = wb1.create_sheet(title=\"Matched Results\")\n",
        "\n",
        "  wb2 = openpyxl.load_workbook(filea, data_only=True)\n",
        "\n",
        "  second_file_data = {}\n",
        "\n",
        "  for sheet_name in wb2.sheetnames:\n",
        "    sheet = wb2[sheet_name]\n",
        "    for row in range(1, sheet.max_row + 1):\n",
        "        d_value = sheet['D' + str(row)].value\n",
        "        e_value = sheet['E' + str(row)].value\n",
        "        phone_number = sheet['J' + str(row)].value\n",
        "\n",
        "        if d_value:\n",
        "            second_file_data[d_value] = (d_value, phone_number)\n",
        "        if e_value:\n",
        "            second_file_data[e_value] = (d_value, phone_number)\n",
        "\n",
        "  result_index = 1\n",
        "\n",
        "  for row in range(1, sheet1.max_row + 1):\n",
        "    m_value = sheet1['M' + str(row)].value\n",
        "    n_value = sheet1['N' + str(row)].value\n",
        "\n",
        "    if m_value in second_file_data:\n",
        "        d_value, phone_number = second_file_data[m_value]\n",
        "        result_sheet.cell(row=result_index, column=1, value=phone_number)\n",
        "        result_sheet.cell(row=result_index, column=2, value=d_value)\n",
        "        result_index += 1\n",
        "    if n_value in second_file_data:\n",
        "        d_value, phone_number = second_file_data[n_value]\n",
        "        result_sheet.cell(row=result_index, column=1, value=phone_number)\n",
        "        result_sheet.cell(row=result_index, column=2, value=d_value)\n",
        "        result_index += 1\n",
        "\n",
        "\n",
        "  #wb1.save('SubsWithPhones.xlsx')\n",
        "  #files.download('SubsWithPhones.xlsx')"
      ],
      "metadata": {
        "id": "S0UP12_hYvFr"
      },
      "execution_count": 17,
      "outputs": []
    },
    {
      "cell_type": "code",
      "source": [
        "firstFile = \"CaliforniaSubcontractors042824.xlsx\"\n",
        "secondFile = \"TESTING.xlsx\"\n",
        "\n",
        "GettingCellphones(firstFile,secondFile)"
      ],
      "metadata": {
        "colab": {
          "base_uri": "https://localhost:8080/",
          "height": 17
        },
        "id": "W_FZLJRHY0Rm",
        "outputId": "fd958499-79b1-4045-dbfc-e07a4d2f0efd"
      },
      "execution_count": 18,
      "outputs": [
        {
          "output_type": "display_data",
          "data": {
            "text/plain": [
              "<IPython.core.display.Javascript object>"
            ],
            "application/javascript": [
              "\n",
              "    async function download(id, filename, size) {\n",
              "      if (!google.colab.kernel.accessAllowed) {\n",
              "        return;\n",
              "      }\n",
              "      const div = document.createElement('div');\n",
              "      const label = document.createElement('label');\n",
              "      label.textContent = `Downloading \"${filename}\": `;\n",
              "      div.appendChild(label);\n",
              "      const progress = document.createElement('progress');\n",
              "      progress.max = size;\n",
              "      div.appendChild(progress);\n",
              "      document.body.appendChild(div);\n",
              "\n",
              "      const buffers = [];\n",
              "      let downloaded = 0;\n",
              "\n",
              "      const channel = await google.colab.kernel.comms.open(id);\n",
              "      // Send a message to notify the kernel that we're ready.\n",
              "      channel.send({})\n",
              "\n",
              "      for await (const message of channel.messages) {\n",
              "        // Send a message to notify the kernel that we're ready.\n",
              "        channel.send({})\n",
              "        if (message.buffers) {\n",
              "          for (const buffer of message.buffers) {\n",
              "            buffers.push(buffer);\n",
              "            downloaded += buffer.byteLength;\n",
              "            progress.value = downloaded;\n",
              "          }\n",
              "        }\n",
              "      }\n",
              "      const blob = new Blob(buffers, {type: 'application/binary'});\n",
              "      const a = document.createElement('a');\n",
              "      a.href = window.URL.createObjectURL(blob);\n",
              "      a.download = filename;\n",
              "      div.appendChild(a);\n",
              "      a.click();\n",
              "      div.remove();\n",
              "    }\n",
              "  "
            ]
          },
          "metadata": {}
        },
        {
          "output_type": "display_data",
          "data": {
            "text/plain": [
              "<IPython.core.display.Javascript object>"
            ],
            "application/javascript": [
              "download(\"download_1deef6b0-fffc-4759-aa99-23c6738f847a\", \"updated_first_file.xlsx\", 14544)"
            ]
          },
          "metadata": {}
        }
      ]
    },
    {
      "cell_type": "code",
      "source": [],
      "metadata": {
        "id": "cAnSCPY6ZRFr"
      },
      "execution_count": 18,
      "outputs": []
    }
  ]
}