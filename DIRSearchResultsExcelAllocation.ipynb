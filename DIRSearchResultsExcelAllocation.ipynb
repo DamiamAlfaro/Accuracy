{
  "nbformat": 4,
  "nbformat_minor": 0,
  "metadata": {
    "colab": {
      "provenance": [],
      "authorship_tag": "ABX9TyPBy3HRwml55RNSv7gMmA+g",
      "include_colab_link": true
    },
    "kernelspec": {
      "name": "python3",
      "display_name": "Python 3"
    },
    "language_info": {
      "name": "python"
    }
  },
  "cells": [
    {
      "cell_type": "markdown",
      "metadata": {
        "id": "view-in-github",
        "colab_type": "text"
      },
      "source": [
        "<a href=\"https://colab.research.google.com/github/DamiamAlfaro/Accuracy/blob/main/DIRSearchResultsExcelAllocation.ipynb\" target=\"_parent\"><img src=\"https://colab.research.google.com/assets/colab-badge.svg\" alt=\"Open In Colab\"/></a>"
      ]
    },
    {
      "cell_type": "code",
      "execution_count": null,
      "metadata": {
        "id": "twtGoPIglNZw"
      },
      "outputs": [],
      "source": [
        "from google.colab import files\n",
        "\n",
        "upload = files.upload()"
      ]
    },
    {
      "cell_type": "code",
      "source": [
        "search_results_raw_text = \"DIRSearchResults.txt\"\n",
        "\n",
        "dataToExcel = []\n",
        "\n",
        "with open(search_results_raw_text,\"r\") as file:\n",
        "  read = file.read()\n",
        "  projects_raw = read.split(\"Project Number:\")\n",
        "\n",
        "projects_text = projects_raw[1:]\n",
        "\n",
        "projects = []\n",
        "for project_raw in projects_text:\n",
        "  projects.append(project_raw.split(\"\\n\"))\n"
      ],
      "metadata": {
        "id": "rbr5fZyUmybM"
      },
      "execution_count": null,
      "outputs": []
    },
    {
      "cell_type": "code",
      "source": [
        "# Demo\n",
        "lengths = []\n",
        "for demo1 in projects:\n",
        "  print(demo1)\n",
        "  lengths.append(len(demo1))\n",
        "  for demo1_2 in demo1:\n",
        "    print(f'{demo1_2}\\n======================================')\n",
        "  print(\"++++++++++++++++++++++++++++++++++++++++++++++\")\n",
        "\n",
        "print(lengths)\n",
        "print(projects[1])\n",
        "print(projects[3])"
      ],
      "metadata": {
        "id": "MxMMOmwMKw8x"
      },
      "execution_count": null,
      "outputs": []
    },
    {
      "cell_type": "code",
      "source": [
        "for project in range(len(projects)):\n",
        "\n",
        "  \"\"\"\n",
        "  Data simplified and ready to be moved to excel\n",
        "  \"\"\"\n",
        "  projectAll = []\n",
        "\n",
        "  \"\"\"\n",
        "  The dicitonary containing individual project information\n",
        "  that will eventually go to the excel file.\n",
        "  Please refer above for the information type.\n",
        "  \"\"\"\n",
        "  projectInfo = {}\n",
        "\n",
        "  # Project Number\n",
        "  projectInfo[\"ProjectNumber\"] = projects[project][1]\n",
        "\n",
        "  \"\"\"\n",
        "  Breaks item [3] into three:\n",
        "  1) DIR ID Number\n",
        "  2) Awarding Body\n",
        "  3) Name of the Project\n",
        "  \"\"\"\n",
        "  exosphere = projects[project][3].split(\"\\t\")\n",
        "\n",
        "  # Project DIR Number\n",
        "  projectInfo[\"DIRNumber\"] = exosphere[0]\n",
        "\n",
        "  # Project Awarding Body\n",
        "  projectInfo[\"AwardingBody\"] = exosphere[1]\n",
        "\n",
        "  # Name of Project\n",
        "  projectInfo[\"ProjectName\"] = exosphere[2]\n",
        "\n",
        "  \"\"\"\n",
        "  Breaks item [6],[7]->[7.1],[8],[9],[10]->[10.1]\n",
        "  [6]:\n",
        "  1) Amount <--\n",
        "  2) Address Street <--+\n",
        "  [7]:\n",
        "  1) Address Remanining <--+\n",
        "  2) Advertised Date [7.1]\n",
        "  [7.1]:\n",
        "  1) 'Advertised'\n",
        "  2) Date Advertised <--\n",
        "  [8]:\n",
        "  1) 'Award'\n",
        "  2) Date Awarded <--\n",
        "  [9]:\n",
        "  1) 'Start'\n",
        "  2) Date Started <--\n",
        "  [10]:\n",
        "  1) Completition Date [10.1]\n",
        "  2) Classification <--\n",
        "  3) County <--\n",
        "  [10.1]\n",
        "  1) 'Est. Comp'\n",
        "  2) Completition Date <--\n",
        "  \"\"\"\n",
        "  # [6]\n",
        "  thermosphere = projects[project][6].split(\"\\t\")\n",
        "  projectInfo[\"Amount\"] = thermosphere[0]\n",
        "\n",
        "  address = \"\"\n",
        "  address += f'{thermosphere[1]} '\n",
        "\n",
        "  # [7]\n",
        "  mesosphere = projects[project][7].split(\"\\t\")\n",
        "  # Scenario A: Extra Address Attributes (POs, Apartments, etc)\n",
        "  if len(mesosphere) < 2:\n",
        "    # [7.1]\n",
        "    address += f'{mesosphere[0]} '\n",
        "    mesosphere2 = projects[project][8].split(\"\\t\")\n",
        "    address += f'{mesosphere2[0]}'\n",
        "    projectInfo[\"Address\"] = address\n",
        "    stratosphere2 = mesosphere2[1].split(\":\")\n",
        "    projectInfo[\"DateAdvertised\"] = stratosphere2[1]\n",
        "    # [8]\n",
        "    troposphere2 = projects[project][9].split(\":\")\n",
        "    projectInfo[\"AwardedDate\"] = troposphere2[1]\n",
        "    # [9]\n",
        "    continentalCrust2 = projects[project][10].split(\":\")\n",
        "    projectInfo[\"StartDate\"] = continentalCrust2[1]\n",
        "    # [10]\n",
        "    oceanincCrust2 = projects[project][11].split(\"\\t\")\n",
        "    # [10.1]\n",
        "    mantle2 = oceanincCrust2[0].split(\":\")\n",
        "    projectInfo[\"CompletitionDate\"] = mantle2[1]\n",
        "    projectInfo[\"Classification\"] = oceanincCrust2[1]\n",
        "    projectInfo[\"County\"] = oceanincCrust2[2]\n",
        "\n",
        "  # Scenario B: No Extra Attributes\n",
        "  else:\n",
        "  # [7.1]\n",
        "    address += mesosphere[0]\n",
        "    projectInfo[\"Address\"] = address\n",
        "    stratosphere = mesosphere[1].split(\":\")\n",
        "    projectInfo[\"DateAdvertised\"] = stratosphere[1]\n",
        "    # [8]\n",
        "    troposphere = projects[project][8].split(\":\")\n",
        "    projectInfo[\"AwardedDate\"] = troposphere[1]\n",
        "    # [9]\n",
        "    continentalCrust = projects[project][9].split(\":\")\n",
        "    projectInfo[\"StartDate\"] = continentalCrust[1]\n",
        "    # [10]\n",
        "    oceanincCrust = projects[project][10].split(\"\\t\")\n",
        "\n",
        "    # [10.1]\n",
        "    mantle = oceanincCrust[0].split(\":\")\n",
        "    projectInfo[\"CompletitionDate\"] = mantle[1]\n",
        "\n",
        "    # Scenario A: Equaling to three means only one classification\n",
        "    if len(oceanincCrust) == 3:\n",
        "      projectInfo[\"Classification\"] = oceanincCrust2[1]\n",
        "      projectInfo[\"County\"] = oceanincCrust[2]\n",
        "\n",
        "    # Scenario B: More than one classification (missing county\n",
        "    # and classification)\n",
        "    else:\n",
        "      pass\n",
        "      # [10.1]\n",
        "\n",
        "\n",
        "\n",
        "\n",
        "\n",
        "\n",
        "\n",
        "  projectAll.append(projectInfo)\n",
        "  print(projectAll)\n",
        "  #dataToExcel.append(projectAll)"
      ],
      "metadata": {
        "colab": {
          "base_uri": "https://localhost:8080/"
        },
        "id": "hGY-99nDnDwx",
        "outputId": "5509120c-469e-4e77-9d30-7f4382ad3cf7"
      },
      "execution_count": null,
      "outputs": [
        {
          "output_type": "stream",
          "name": "stdout",
          "text": [
            "[{'ProjectNumber': 'JF02-16-14-J8184', 'DIRNumber': 'ID: 207242', 'AwardingBody': 'County of Monterey RMA - Public Works', 'ProjectName': '315 El Camino Real - Greenfield Library ADA Sink Imprv', 'Amount': '$2,946.21', 'Address': '315 El Camino Real Greenfield, CA 93927', 'DateAdvertised': ' 08/01/2017', 'AwardedDate': ' 08/02/2017', 'StartDate': ' 09/04/2017', 'CompletitionDate': ' 09/08/2017', 'Classification': 'LABORERS', 'County': 'MONTEREY'}]\n",
            "[{'ProjectNumber': '2000000450', 'DIRNumber': 'ID: 397336', 'AwardingBody': 'CSU Sacramento LD', 'ProjectName': 'J30-21-0002 Replaced Library Table', 'Amount': '$4,718.34', 'Address': '6000 J Street MS 6008 Sacramento, CA 95819', 'DateAdvertised': ' 03/08/2021', 'AwardedDate': ' 12/01/2021', 'StartDate': ' 12/01/2021', 'CompletitionDate': ' 03/01/2022', 'Classification': 'LABORERS', 'County': 'SACRAMENTO'}]\n",
            "[{'ProjectNumber': 'A17189', 'DIRNumber': 'ID: 158058', 'AwardingBody': 'Goleta Sanitary District', 'ProjectName': 'Reinstall Blower 4471', 'Amount': '$3,500.00', 'Address': '1 William Moffett Goleta, CA 93117', 'DateAdvertised': ' 01/30/2017', 'AwardedDate': ' 01/30/2017', 'StartDate': ' 02/02/2017', 'CompletitionDate': ' 02/02/2017', 'Classification': 'LABORERS', 'County': 'SANTA BARBARA'}]\n",
            "[{'ProjectNumber': 'JN14-11-JC2121-00', 'DIRNumber': 'ID: 393080', 'AwardingBody': 'County of Monterey - Natividad Medical Center', 'ProjectName': 'WATER SEALING BLDGS 500-580', 'Amount': '$4.00', 'Address': '1441 Constitution Blvd Salinas, CA 93912', 'DateAdvertised': ' 10/20/2021', 'AwardedDate': ' 10/20/2021', 'StartDate': ' 10/20/2021', 'CompletitionDate': ' 11/30/2022'}]\n",
            "[{'ProjectNumber': 'PW220001', 'DIRNumber': 'ID: 437623', 'AwardingBody': 'CSU Sacramento LD', 'ProjectName': 'Well Garden Raise Drain', 'Amount': '$3,169.20', 'Address': '6000 J Street Sacramento, CA 95819-6008', 'DateAdvertised': ' 03/22/2022', 'AwardedDate': ' 03/22/2022', 'StartDate': ' 09/30/2022', 'CompletitionDate': ' 10/17/2022', 'Classification': 'LABORERS', 'County': 'SACRAMENTO'}]\n"
          ]
        }
      ]
    },
    {
      "cell_type": "code",
      "source": [],
      "metadata": {
        "id": "fn_XbUbQHMZg"
      },
      "execution_count": null,
      "outputs": []
    }
  ]
}