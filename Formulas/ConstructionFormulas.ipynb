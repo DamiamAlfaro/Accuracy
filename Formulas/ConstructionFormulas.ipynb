{
  "nbformat": 4,
  "nbformat_minor": 0,
  "metadata": {
    "colab": {
      "provenance": [],
      "authorship_tag": "ABX9TyMuBK+pfRyYRoAIXkXojk5k",
      "include_colab_link": true
    },
    "kernelspec": {
      "name": "python3",
      "display_name": "Python 3"
    },
    "language_info": {
      "name": "python"
    }
  },
  "cells": [
    {
      "cell_type": "markdown",
      "metadata": {
        "id": "view-in-github",
        "colab_type": "text"
      },
      "source": [
        "<a href=\"https://colab.research.google.com/github/DamiamAlfaro/Sonder/blob/main/Formulas/ConstructionFormulas.ipynb\" target=\"_parent\"><img src=\"https://colab.research.google.com/assets/colab-badge.svg\" alt=\"Open In Colab\"/></a>"
      ]
    },
    {
      "cell_type": "code",
      "source": [
        "import math\n",
        "from fractions import Fraction"
      ],
      "metadata": {
        "id": "gw1jvHCeMFQA"
      },
      "execution_count": 8,
      "outputs": []
    },
    {
      "cell_type": "code",
      "execution_count": 81,
      "metadata": {
        "id": "leDUOEx17Jov"
      },
      "outputs": [],
      "source": [
        "class Export():\n",
        "  \"\"\"\n",
        "  NEED gettingTrucksperHour()\n",
        "\n",
        "  This is based on an entrenched set of\n",
        "  days that cannot be changed. I.e. the product\n",
        "  of the estimating department at a construction\n",
        "  company.\n",
        "  \"\"\"\n",
        "  def TrucksPerHour(tons, type_truck, days):\n",
        "    trucksanHour = float(((tons/type_truck)/days))/8\n",
        "    minutesperTruck = float(60/trucksanHour)\n",
        "    message = f\"\\n{trucksanHour:.2f} Trucks each Hour\"\n",
        "    message += f\"\\n{minutesperTruck:.2f} Minutes per Truck\"\n",
        "    return message\n",
        "\n",
        "  \"\"\"\n",
        "  SERVING TrucksPerHour()\n",
        "  \"\"\"\n",
        "  def gettingTrucksperHour():\n",
        "    t = float(input(\"Total Tons: \"))\n",
        "    T = float(input(\"Truck Tonage: \"))\n",
        "    d = float(input(\"Days: \"))\n",
        "    return t, T, d\n",
        "\n",
        "  \"\"\"\n",
        "  c = scoop capacity\n",
        "  t = time to do a scoop\n",
        "  T = total tonage needed to be exported\n",
        "  Tt = truck tonage (superten or truck and transfer)\n",
        "  r = ratio of the two\n",
        "  rM = rate of tons per minute\n",
        "  rH = rate of tons per hour\n",
        "  R = hours needed to export all the tons\n",
        "  D = days needed to export all the tons\n",
        "  tf = time for truck fully loaded (minutes)\n",
        "  tH = total trucks capable to be filled in an hour\n",
        "  \"\"\"\n",
        "  def ExperimentingRates():\n",
        "    # How much tons fit on an excavator's scoop\n",
        "    c = float(input(\"Scoop capacity (tons): \"))\n",
        "    # The time the operator takes to do a scoop\n",
        "    t = float(input(\"Time to do a scoop (seconds): \"))\n",
        "    # Total tonage needed to be exported\n",
        "    T = float(input(\"Total tonage needed to be exported (tons): \"))\n",
        "    # Truck tonage (superten or truck and transfer)\n",
        "    Tt = float(input(\"Truck tonage (superten or truck and transfer): \"))\n",
        "\n",
        "    \"\"\"\n",
        "    Rate per tonage\n",
        "    \"\"\"\n",
        "    # Units: tons/seconds\n",
        "    r = round(c/t, 2)\n",
        "    # Units: tons/minute\n",
        "    rM = r * 60\n",
        "    # Units: tons/hour\n",
        "    rH = r * 3600\n",
        "    # Units: Hours needed\n",
        "    R = round(T/rH, 2)\n",
        "    # Units: Days needed\n",
        "    D = round(R/8, 2)\n",
        "\n",
        "    \"\"\"\n",
        "    Rate per Truck\n",
        "    \"\"\"\n",
        "    # Time (minutes) needed to fill a truck\n",
        "    tf = round(Tt/rM, 2)\n",
        "    # n Trucks an hour\n",
        "    tH = round(60/tf, 2)\n",
        "\n",
        "    return r, rM, rH, R, D, tf, tH\n",
        "\n",
        "  \"\"\"\n",
        "  Displays the results of ExperimentingRates() in a\n",
        "  aesthetically pleasing manner.\n",
        "  \"\"\"\n",
        "  def ExperimentingRatesPretty():\n",
        "    pass\n",
        "\n",
        "  def ComparingRates():\n",
        "    pass"
      ]
    },
    {
      "cell_type": "code",
      "source": [
        "print(\"Superten\")\n",
        "superten = Export.TrucksPerHour(*Export.gettingTrucksperHour())\n",
        "print(f\"{superten}\\n\")"
      ],
      "metadata": {
        "colab": {
          "base_uri": "https://localhost:8080/"
        },
        "id": "37rOGOPF8C8m",
        "outputId": "63003921-f914-41b9-99bd-af0f53fd601e"
      },
      "execution_count": 79,
      "outputs": [
        {
          "output_type": "stream",
          "name": "stdout",
          "text": [
            "Superten\n",
            "Total Tons: 10208\n",
            "Truck Tonage: 17\n",
            "Days: 10\n",
            "\n",
            "7.51 Trucks each Hour\n",
            "7.99 Minutes per Truck\n",
            "\n"
          ]
        }
      ]
    },
    {
      "cell_type": "code",
      "source": [
        "print(\"Truck and Transfer\")\n",
        "truckandtransfer = Export.TrucksPerHour(*Export.gettingTrucksperHour())\n",
        "print(f\"{truckandtransfer}\\n\")"
      ],
      "metadata": {
        "colab": {
          "base_uri": "https://localhost:8080/"
        },
        "id": "fYVdSApv8H7p",
        "outputId": "d6941b0c-9997-4ed2-db58-0ef510bc9c10"
      },
      "execution_count": 80,
      "outputs": [
        {
          "output_type": "stream",
          "name": "stdout",
          "text": [
            "Truck and Transfer\n",
            "Total Tons: 10208\n",
            "Truck Tonage: 25\n",
            "Days: 10\n",
            "\n",
            "5.10 Trucks each Hour\n",
            "11.76 Minutes per Truck\n",
            "\n"
          ]
        }
      ]
    },
    {
      "cell_type": "code",
      "source": [
        "print(\"Rate\")\n",
        "print(Export.ExperimentingRates())"
      ],
      "metadata": {
        "colab": {
          "base_uri": "https://localhost:8080/"
        },
        "id": "4FQ1RLIp8DEb",
        "outputId": "0f0d70c6-9b26-443d-a5aa-bf229abf33e8"
      },
      "execution_count": 70,
      "outputs": [
        {
          "output_type": "stream",
          "name": "stdout",
          "text": [
            "Rate\n",
            "Scoop capacity (tons): 5\n",
            "Time to do a scoop (seconds): 45\n",
            "Total tonage needed to be exported (tons): 10208\n",
            "Truck tonage (superten or truck and transfer): 17\n",
            "(0.11, 6.6, 396.0, 25.78, 3.22, 2.58, 23.26)\n"
          ]
        }
      ]
    }
  ]
}