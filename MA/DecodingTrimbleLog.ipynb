{
  "nbformat": 4,
  "nbformat_minor": 0,
  "metadata": {
    "colab": {
      "provenance": [],
      "authorship_tag": "ABX9TyOXQusLQeznNrNhSrBJ65nY",
      "include_colab_link": true
    },
    "kernelspec": {
      "name": "python3",
      "display_name": "Python 3"
    },
    "language_info": {
      "name": "python"
    }
  },
  "cells": [
    {
      "cell_type": "markdown",
      "metadata": {
        "id": "view-in-github",
        "colab_type": "text"
      },
      "source": [
        "<a href=\"https://colab.research.google.com/github/DamiamAlfaro/Sonder/blob/main/MA/DecodingTrimbleLog.ipynb\" target=\"_parent\"><img src=\"https://colab.research.google.com/assets/colab-badge.svg\" alt=\"Open In Colab\"/></a>"
      ]
    },
    {
      "cell_type": "code",
      "execution_count": null,
      "metadata": {
        "id": "RiLHAl7Te5S1"
      },
      "outputs": [],
      "source": [
        "import pandas as pd\n",
        "import csv\n",
        "from google.colab import files\n",
        "\n",
        "#files.upload()\n"
      ]
    },
    {
      "cell_type": "code",
      "source": [
        "textfile = \"SalkParkTaskLog.txt\""
      ],
      "metadata": {
        "id": "045NyDQ5fFdf"
      },
      "execution_count": null,
      "outputs": []
    },
    {
      "cell_type": "code",
      "source": [
        "with open(textfile, 'r') as file:\n",
        "  texting = file.read().split(\"\\t\\t\\t\\n\")[1:]"
      ],
      "metadata": {
        "id": "epZphixWfWTW"
      },
      "execution_count": null,
      "outputs": []
    },
    {
      "cell_type": "code",
      "source": [
        "filter1 = [breaking.split(\"\\n\") for breaking in texting]\n",
        "filter1[0]"
      ],
      "metadata": {
        "colab": {
          "base_uri": "https://localhost:8080/"
        },
        "id": "cJGVUAu-gPfM",
        "outputId": "9803a1d3-c7c4-40e8-d82b-4d5dc16d7ef3"
      },
      "execution_count": null,
      "outputs": [
        {
          "output_type": "execute_result",
          "data": {
            "text/plain": [
              "['Base Setup\\tDate\\t5/23/2023\\t',\n",
              " 'Base Setup\\tTime\\t10:03:52 AM\\t',\n",
              " 'Base Setup\\tBase name\\tSalk base\\t',\n",
              " 'Base Setup\\tReceiver type\\tTrimble R750 SN: 6251R05750\\t',\n",
              " 'Base Setup\\tCorrections broadcasted via\\tRadio in Receiver\\t',\n",
              " 'Base Setup\\tRadio type\\tTNL900I\\t',\n",
              " 'Base Setup\\tRadio network\\t16\\t',\n",
              " 'Base Setup\\tBase ant. height(APC)\\t0.214 usft\\t',\n",
              " 'Base Setup\\tBase latitude\\t32°54\\'20.78011\" N\\t',\n",
              " 'Base Setup\\tBase longitude\\t117°09\\'26.18587\" W\\t',\n",
              " 'Base Setup\\tBase height\\t294.021 usft\\t',\n",
              " 'Base Setup\\tElevation mask\\t10\\t',\n",
              " '']"
            ]
          },
          "metadata": {},
          "execution_count": 42
        }
      ]
    },
    {
      "cell_type": "code",
      "source": [
        "major = []\n",
        "for strata in filter1:\n",
        "  minor = []\n",
        "  for item in strata:\n",
        "    minor.append(item.split(\"\\t\")[:-1])\n",
        "  major.append(minor)\n"
      ],
      "metadata": {
        "id": "8TghcQfxhCP3"
      },
      "execution_count": null,
      "outputs": []
    },
    {
      "cell_type": "code",
      "source": [
        "for i in major[3]:\n",
        "  print(i)"
      ],
      "metadata": {
        "colab": {
          "base_uri": "https://localhost:8080/"
        },
        "id": "YzHevmEchmL1",
        "outputId": "0eb5c86c-e64c-4c78-9ca8-bf7580f6d766"
      },
      "execution_count": null,
      "outputs": [
        {
          "output_type": "stream",
          "name": "stdout",
          "text": [
            "['Antenna Height', 'Date', '5/23/2023']\n",
            "['Antenna Height', 'Time', '10:15:48 AM']\n",
            "['Antenna Height', 'Measure mode', 'Standing']\n",
            "['Antenna Height', 'Antenna height', '6.562 usft']\n",
            "['Antenna Height', 'Using Quick Release', 'Yes']\n",
            "[]\n"
          ]
        }
      ]
    },
    {
      "cell_type": "code",
      "source": [
        "major"
      ],
      "metadata": {
        "id": "S3rGj4j6kEF6"
      },
      "execution_count": null,
      "outputs": []
    },
    {
      "cell_type": "code",
      "source": [
        "\n",
        "flat_data = []\n",
        "for sublist in major:\n",
        "    for item in sublist:\n",
        "        if item:\n",
        "            flat_data.append(item)\n",
        "\n",
        "csv_file = \"SalkParkLog.csv\"\n",
        "with open(csv_file, mode='w', newline='') as file:\n",
        "    writer = csv.writer(file)\n",
        "    writer.writerow(['Category', 'Attribute', 'Value'])\n",
        "    writer.writerows(flat_data)\n",
        "\n",
        "\n",
        "df = pd.read_csv(csv_file)\n",
        "\n",
        "files.download(csv_file)"
      ],
      "metadata": {
        "colab": {
          "base_uri": "https://localhost:8080/",
          "height": 17
        },
        "id": "B_61dufJkxf5",
        "outputId": "3d068af2-fe4e-46da-fb90-f7878372c2c8"
      },
      "execution_count": null,
      "outputs": [
        {
          "output_type": "display_data",
          "data": {
            "text/plain": [
              "<IPython.core.display.Javascript object>"
            ],
            "application/javascript": [
              "\n",
              "    async function download(id, filename, size) {\n",
              "      if (!google.colab.kernel.accessAllowed) {\n",
              "        return;\n",
              "      }\n",
              "      const div = document.createElement('div');\n",
              "      const label = document.createElement('label');\n",
              "      label.textContent = `Downloading \"${filename}\": `;\n",
              "      div.appendChild(label);\n",
              "      const progress = document.createElement('progress');\n",
              "      progress.max = size;\n",
              "      div.appendChild(progress);\n",
              "      document.body.appendChild(div);\n",
              "\n",
              "      const buffers = [];\n",
              "      let downloaded = 0;\n",
              "\n",
              "      const channel = await google.colab.kernel.comms.open(id);\n",
              "      // Send a message to notify the kernel that we're ready.\n",
              "      channel.send({})\n",
              "\n",
              "      for await (const message of channel.messages) {\n",
              "        // Send a message to notify the kernel that we're ready.\n",
              "        channel.send({})\n",
              "        if (message.buffers) {\n",
              "          for (const buffer of message.buffers) {\n",
              "            buffers.push(buffer);\n",
              "            downloaded += buffer.byteLength;\n",
              "            progress.value = downloaded;\n",
              "          }\n",
              "        }\n",
              "      }\n",
              "      const blob = new Blob(buffers, {type: 'application/binary'});\n",
              "      const a = document.createElement('a');\n",
              "      a.href = window.URL.createObjectURL(blob);\n",
              "      a.download = filename;\n",
              "      div.appendChild(a);\n",
              "      a.click();\n",
              "      div.remove();\n",
              "    }\n",
              "  "
            ]
          },
          "metadata": {}
        },
        {
          "output_type": "display_data",
          "data": {
            "text/plain": [
              "<IPython.core.display.Javascript object>"
            ],
            "application/javascript": [
              "download(\"download_1da30c63-a02f-4efd-ade9-e81499307341\", \"SalkParkLog.csv\", 307768)"
            ]
          },
          "metadata": {}
        }
      ]
    }
  ]
}