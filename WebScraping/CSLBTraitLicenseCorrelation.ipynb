{
  "nbformat": 4,
  "nbformat_minor": 0,
  "metadata": {
    "colab": {
      "provenance": [],
      "authorship_tag": "ABX9TyPc1awBNUip+sT2t+02hwrl",
      "include_colab_link": true
    },
    "kernelspec": {
      "name": "python3",
      "display_name": "Python 3"
    },
    "language_info": {
      "name": "python"
    }
  },
  "cells": [
    {
      "cell_type": "markdown",
      "metadata": {
        "id": "view-in-github",
        "colab_type": "text"
      },
      "source": [
        "<a href=\"https://colab.research.google.com/github/DamiamAlfaro/Sonder/blob/main/WebScraping/CSLBTraitLicenseCorrelation.ipynb\" target=\"_parent\"><img src=\"https://colab.research.google.com/assets/colab-badge.svg\" alt=\"Open In Colab\"/></a>"
      ]
    },
    {
      "cell_type": "code",
      "execution_count": 152,
      "metadata": {
        "id": "BqJH1TcrYp0o"
      },
      "outputs": [],
      "source": [
        "import requests\n",
        "from bs4 import BeautifulSoup\n",
        "import pandas as pd\n",
        "import re\n",
        "from google.colab import files\n",
        "#files.upload()\n",
        "import openpyxl\n"
      ]
    },
    {
      "cell_type": "code",
      "source": [
        "url = \"https://www.cslb.ca.gov/about_us/library/licensing_classifications/\"\n",
        "response = requests.get(url)\n",
        "\n",
        "soup = BeautifulSoup(response.content, 'html.parser')\n",
        "\n",
        "links = soup.find_all('a', href=lambda href: href and \"Licensing_Classifications_Detail.aspx?Class=\" in href)\n",
        "\n",
        "hrefs = [link['href'] for link in links]\n",
        "\n",
        "licenseTexts = []\n",
        "\n",
        "for license in hrefs[4:]:\n",
        "  licensePage = url + license\n",
        "  linkResponse = requests.get(licensePage)\n",
        "  souping = BeautifulSoup(linkResponse.content, 'html.parser')\n",
        "  section = souping.find(\"div\", class_=\"main-primary\")\n",
        "  paragraphs = section.find_all(\"p\")\n",
        "  text = [paragraph.get_text() for paragraph in paragraphs]\n",
        "  licenseTexts.append(text)"
      ],
      "metadata": {
        "id": "hCIXq9S_cfzj"
      },
      "execution_count": 2,
      "outputs": []
    },
    {
      "cell_type": "code",
      "source": [
        "cleanedLicenseTexts = []\n",
        "\n",
        "for licenseText in licenseTexts:\n",
        "  cleansing = []\n",
        "  for paragraph in licenseText:\n",
        "    cleanedString = paragraph.replace(\"\\n\", \"\").replace(\"\\t\", \"\").replace(\"\\r\", \"\").replace(\"            \",\" \")\n",
        "    cleansing.append(cleanedString)\n",
        "  cleanedLicenseTexts.append(cleansing)"
      ],
      "metadata": {
        "id": "6mt2Bc3uqovs"
      },
      "execution_count": 3,
      "outputs": []
    },
    {
      "cell_type": "code",
      "source": [
        "soup2 = BeautifulSoup(response.content, 'html.parser')\n",
        "\n",
        "linksSpecialty = soup2.find('a',href=\"C-61_Limited_Speciality/Default.aspx\")\n",
        "\n",
        "specialties = url + linksSpecialty['href']\n",
        "\n",
        "response2 = requests.get(specialties)\n",
        "souping2 = BeautifulSoup(response2.content, 'html.parser')\n",
        "\n",
        "# Method 1: All hrefs in Page\n",
        "hrefs2 = souping2.find_all('a', href=lambda href: href and \"Licensing_Classifications_Detail.aspx?Class=\" in href)\n",
        "\n",
        "# Method 2: Specific locations\n",
        "ulClass = souping2.find('ul',class_='list-understated')\n",
        "\n",
        "listElements = ulClass.find_all('li')\n",
        "\n",
        "linksforEach = []\n",
        "\n",
        "for element in listElements:\n",
        "  filter = []\n",
        "  for finiteElement in element.find_all('a'):\n",
        "    if finiteElement['href'][0:2] == \"..\":\n",
        "      filter.append(finiteElement['href'][2:])\n",
        "    else:\n",
        "      filter.append(finiteElement['href'])\n",
        "  linksforEach.append(filter)\n",
        "\n",
        "# Text Titles only\n",
        "textlistElements = [element.get_text() for element in listElements]\n",
        "\n",
        "specialtiesTitlesDescriptions = []\n",
        "\n",
        "for x, y in zip(linksforEach, textlistElements):\n",
        "  transportingStrings = []\n",
        "  transportingStrings.append(y)\n",
        "  for j in range(len(x)):\n",
        "    direction = url + x[j]\n",
        "    response3 = requests.get(direction)\n",
        "    souping3 = BeautifulSoup(response3.content, 'html.parser')\n",
        "    classing = souping3.find(\"div\", class_=\"main-primary\")\n",
        "    try:\n",
        "      paragraphs = classing.find_all(\"p\")\n",
        "    except AttributeError:\n",
        "      continue\n",
        "    textSpecialty = [paragraph.get_text() for paragraph in paragraphs]\n",
        "    cleansing2 = []\n",
        "    for paragraph in textSpecialty:\n",
        "      cleanedString = paragraph.replace(\"\\n\", \"\").replace(\"\\t\", \"\").replace(\"\\r\", \"\")\n",
        "      cleanFurther = \" \".join(cleanedString.split())\n",
        "      cleansing2.append(cleanFurther)\n",
        "    transportingStrings.append(cleansing2)\n",
        "  specialtiesTitlesDescriptions.append(transportingStrings)\n"
      ],
      "metadata": {
        "id": "bUPXZwMKHQJX"
      },
      "execution_count": 111,
      "outputs": []
    },
    {
      "cell_type": "code",
      "source": [
        "specialtiesExcelTransition = []\n",
        "\n",
        "for specialtyCleaned in specialtiesTitlesDescriptions:\n",
        "  agentTransport = []\n",
        "  for specialtyAttribute in specialtyCleaned:\n",
        "    if type(specialtyAttribute) == list:\n",
        "      for attributeItself in specialtyAttribute:\n",
        "        agentTransport.append(attributeItself)\n",
        "    else:\n",
        "      cleanedString = specialtyAttribute.replace(\"-\", \"\")\n",
        "      anotherClean = cleanedString.split(\"  \")\n",
        "      agentTransport.append(anotherClean[0])\n",
        "      try:\n",
        "        agentTransport.append(anotherClean[1])\n",
        "      except IndexError:\n",
        "        continue\n",
        "  specialtiesExcelTransition.append(agentTransport)"
      ],
      "metadata": {
        "id": "TskrRQs3neAY"
      },
      "execution_count": 150,
      "outputs": []
    },
    {
      "cell_type": "code",
      "source": [
        "\"\"\"\n",
        "TRANSCRIPTION OCCURRED LOCALLY\n",
        "\"\"\""
      ],
      "metadata": {
        "colab": {
          "base_uri": "https://localhost:8080/"
        },
        "id": "9eNcjCr_-uIt",
        "outputId": "906eaf5b-f299-4d6f-d2d1-02bd7adcacc6"
      },
      "execution_count": 151,
      "outputs": [
        {
          "output_type": "stream",
          "name": "stdout",
          "text": [
            "['D1', 'Architectural Porcelain (Now under D64)', 'California Code of Regulations Title 16, Division 8, Article 3. Classifications', 'A nonspecialized contractor installs, modifies, maintains and repairs new products and/or new installations which are not defined in any section herein or defined in any license classification authorized by the Board under Chapter 9, Division 3 of the Business and Professions Code (Contractors License Law).']\n",
            "['D2', 'Asbestos Fabrication (Now under C2)', 'California Code of Regulations Title 16, Division 8, Article 3. Classifications', 'An insulation and acoustical contractor installs any insulating media and preformed architectural acoustical materials for the purpose of temperature and/or sound control.', 'Authority cited: Sections 7008 and 7059, Reference: Sections 7058 and 7059 (Business and Professions Code)']\n",
            "['D3', 'Awnings', 'California Code of Regulations Title 16, Division 8, Article 3. Classifications', 'An awning contractor installs, modifies or repairs aluminum, metal, vinyl or canvas awnings and patio covers. These installations can be either freestanding or attached to a structure. Patio enclosures or carports are not included in this classification.']\n",
            "['D4', 'Central Vacuum Systems', 'California Code of Regulations Title 16, Division 8, Article 3. Classifications', 'A central vacuum systems contractor installs, modifies, maintains or repairs central vacuum systems, pneumatic tube dispatching systems or any other type of pipeline which operates systems of reduced pressure for any purpose.']\n",
            "['D5', 'Communication Equipment (Converted to C7)', 'California Code of Regulations Title 16, Division 8, Article 3. Classifications', 'A communication and low voltage contractor installs, services and maintains all types of communication and low voltage systems which are energy limited and do not exceed 91 volts. These systems include, but are not limited to telephone systems, sound systems, cable television systems, closed-circuit video systems, satellite dish antennas, instrumentation and temperature controls, and low voltage landscape lighting. Low voltage fire alarm systems are specifically not included in this section.', 'Authority cited: Sections 7008 and 7059, Reference: Sections 7058 and 7059 (Business and Professions Code)']\n",
            "['D6', 'Concrete Related Services', 'California Code of Regulations Title 16, Division 8, Article 3. Classifications', 'A concrete related services contractor installs reusable steel concrete form sections or interlocking precast pavers. Performs post-tensioning work, concrete sawing, breaking, curing, floor hardening treatment, coloring concrete, concrete restoration, coring work or operates a concrete pumping service; also includes the application of gunite, but does not include the installation of reinforcing steel.']\n",
            "['D7', 'ConveyorsCranes (Now under D21)', 'California Code of Regulations Title 16, Division 8, Article 3. Classifications', 'A machinery and pumps contractor installs, removes, modifies or repairs:', 'NOTE: Construction of buildings and/or roof structures for this equipment is not included.']\n",
            "['D8', 'Doors and Door Services (Now under D28)', 'California Code of Regulations Title 16, Division 8, Article 3. Classifications', 'A doors, gates and activating devices contractor installs, modifies or repairs all types of residential, commercial or industrial doors including overhead or sliding door assemblies. This includes but is not limited to: wood and screen doors, metal-clad doors, glass sliding/stationary doors and frames, automatic revolving doors, hospital cubical doors and related installations, power activated doors, gates, movable sun shades/shutters, card activated equipment and other access control device and any low voltage electronic or manually operated door hardware/ device.']\n",
            "['D9', 'Drilling, Blasting and Oil Field Work', 'California Code of Regulations Title 16, Division 8, Article 3. Classifications', 'A drilling contractor does core and post hole drilling, horizontal drilling (no piping) and drilling for placement of charges and performing blasting work; performs drilling for site dewatering, oil well drilling and other oil field related specialty work. (DOES NOT INCLUDE WATER WELL DRILLING)']\n",
            "['D10', 'Elevated Floors', 'California Code of Regulations Title 16, Division 8, Article 3. Classifications', 'An elevated floors contractor installs wood or metal framed elevated computer flooring systems. This work does not include the construction of mezzanines.']\n",
            "['D11', 'Fencing (Converted to C13)', 'California Code of Regulations Title 16, Division 8, Article 3. Classifications', 'A fencing contractor constructs, erects, alters, or repairs all types of fences, corrals, runs, railings, cribs, game court enclosures, guard rails and barriers, playground game equipment, backstops, posts, flagpoles, and gates, excluding masonry walls.', 'Authority cited: Sections 7008 and 7059, Reference: Sections 7058 and 7059 (Business and Professions Code)']\n",
            "['D12', 'Synthetic Products', 'California Code of Regulations Title 16, Division 8, Article 3. Classifications', 'A synthetic products contractor installs:']\n",
            "['D13', 'Fire Extinguisher Systems (Now under C16)', 'California Code of Regulations Title 16, Division 8, Article 3. Classifications', 'A Fire protection contractor lays out, fabricates and installs all types of fire protection systems; including all the equipment associated with these systems, excluding electrical alarm systems.', 'Authority cited: Sections 7008 and 7059, Reference: Sections 7058 and 7059 (Business and Professions Code)']\n",
            "['D14', 'Floor Covering (Converted to C15)', 'California Code of Regulations Title 16, Division 8, Article 3. Classifications', 'A flooring and floor covering contractor prepares any surface for the installation of flooring and floor coverings, and installs carpet, resilient sheet goods, resilient tile, wood floors and flooring (including the finishing and repairing thereof), and any other materials established as flooring and floor covering material, except ceramic tile.', 'Authority cited: Sections 7008 and 7059, Reference: Sections 7058 and 7059 (Business and Professions Code)']\n",
            "['D15', 'Furnaces (Now under \"A\" or C20)', 'Business & Professions Code Division 3, Chapter 9. Contractors, Article 4. Classifications', '7056. A general engineering contractor is a contractor whose principal contracting business is in connection with fixed works requiring specialized engineering knowledge and skill, including the following divisions or subjects: irrigation, drainage, water power, water supply, flood control, inland waterways, harbors, docks and wharves, shipyards and ports, dams and hydroelectric projects, levees, river control and reclamation works, railroads, highways, streets and roads, tunnels, airports and airways, sewers and sewage disposal plants and systems, waste reduction plants, bridges, overpasses, underpasses and other similar works, pipelines and other systems for the transmission of petroleum and other liquid or gaseous substances, parks, playgrounds and other recreational works, refineries, chemical plants and similar industrial plants requiring specialized engineering knowledge and skill, powerhouses, power plants and other utility plants and installations, mines and metallurgical plants, land leveling and earthmoving projects, excavating, grading, trenching, paving and surfacing work and cement and concrete works in connection with the above mentioned fixed works.']\n",
            "['D16', 'Hardware, Locks and Safes', 'California Code of Regulations Title 16, Division 8, Article 3. Classifications', 'A hardware, locks and safes contractor installs, modifies or repairs power and/or manually activated door and window locks with related hardware, built-in safes and vaults.']\n",
            "['D17', 'Industrial Insulation (Now under C2)', 'California Code of Regulations Title 16, Division 8, Article 3. Classifications', 'An insulation and acoustical contractor installs any insulating media and preformed architectural acoustical materials for the purpose of temperature and/or sound control.', 'Authority cited: Sections 7008 and 7059, Reference: Sections 7058 and 7059 (Business and Professions Code)']\n",
            "['D18', 'Prison and Jail Equipment (Under relevant class)']\n",
            "['D19', 'Land Clearing (Now under C12 or \"A\" if license is required)', 'California Code of Regulations Title 16, Division 8, Article 3. Classifications', 'An earthwork and paving contractor digs, moves, and places material forming the surface of the earth, other than water, in such a manner that a cut, fill, excavation, grade, trench, backfill, or tunnel (if incidental thereto) can be executed, including the use of explosives for these purposes. This classification includes the mixing, fabricating and placing of paving and any other surfacing materials.', 'Authority cited: Sections 7008 and 7059, Reference: Sections 7058 and 7059 (Business and Professions Code)', 'Business & Professions Code Division 3, Chapter 9. Contractors, Article 4. Classifications', '7056. A general engineering contractor is a contractor whose principal contracting business is in connection with fixed works requiring specialized engineering knowledge and skill, including the following divisions or subjects: irrigation, drainage, water power, water supply, flood control, inland waterways, harbors, docks and wharves, shipyards and ports, dams and hydroelectric projects, levees, river control and reclamation works, railroads, highways, streets and roads, tunnels, airports and airways, sewers and sewage disposal plants and systems, waste reduction plants, bridges, overpasses, underpasses and other similar works, pipelines and other systems for the transmission of petroleum and other liquid or gaseous substances, parks, playgrounds and other recreational works, refineries, chemical plants and similar industrial plants requiring specialized engineering knowledge and skill, powerhouses, power plants and other utility plants and installations, mines and metallurgical plants, land leveling and earthmoving projects, excavating, grading, trenching, paving and surfacing work and cement and concrete works in connection with the above mentioned fixed works.']\n",
            "['D20', 'Lead Burning and Fabrication (Now under D64)', 'California Code of Regulations Title 16, Division 8, Article 3. Classifications', 'A nonspecialized contractor installs, modifies, maintains and repairs new products and/or new installations which are not defined in any section herein or defined in any license classification authorized by the Board under Chapter 9, Division 3 of the Business and Professions Code (Contractors License Law).']\n",
            "['D21', 'Machinery and Pumps', 'California Code of Regulations Title 16, Division 8, Article 3. Classifications', 'A machinery and pumps contractor installs, removes, modifies or repairs:', 'NOTE: Construction of buildings and/or roof structures for this equipment is not included.']\n",
            "['D22', 'Marble (Now under C29)', 'California Code of Regulations Title 16, Division 8, Article 3. Classifications', 'A masonry contractor installs concrete units and baked clay products; concrete, glass and clay block; natural and manufactured stone; terra cotta; and fire brick or other material for refractory work. This classification includes the fabrication and installation of masonry component units for structural load bearing and non-load bearing walls for structures and fences installed with or without mortar; ceramic veneer (not tile) and thin brick that resembles full brick for facing; paving; and clear waterproofing, cleaning and caulking incidental to masonry construction.', 'Authority cited: Sections 7008 and 7059, Reference: Sections 7058 and 7059 (Business and Professions Code)']\n",
            "['D23', 'Medical Gas Systems (Now under C36)', 'California Code of Regulations Title 16, Division 8, Article 3. Classifications', 'A plumbing contractor provides a means for a supply of safe water, ample in volume and of suitable temperature for the purpose intended and the proper disposal of fluid waste from the premises in all structures and fixed works. This classification includes but is not limited to:', '(a)Complete removal of waste from the premises or the construction and connection of on-site waste disposal systems;', '(b)Piping, storage tanks and venting for a safe and adequate supply of gases and liquids for any purpose, including vacuum, compressed air and gases for medical, dental, commercial and industrial uses;', '(c)All gas appliances, flues and gas connections for all systems including suspended space heating units. This does not include forced warm air units;', \"(d)Water and gas piping from the property owner's side of the utility meter to the structure or fixed works;\", '(e) Installation of any type of equipment to heat water, or fluids, to a temperature suitable for the purposes listed in this section, including the installation of solar equipment for this purpose; and', '(f)The maintenance and replacement of all items described above and all health and safety devices such as, but not limited to, gas earthquake valves, gas control valves, back flow preventers, water conditioning equipment and regulating valves.', 'Authority cited: Sections 7008 and 7059, Reference: Sections 7058 and 7059 (Business and Professions Code)']\n",
            "['D24', 'Metal Products', 'California Code of Regulations Title 16, Division 8, Article 3. Classifications', 'A metal products contractor installs, modifies or repairs the following:']\n",
            "['D25', 'Mirrors and Fixed Glass (Now under C17)', 'California Code of Regulations Title 16, Division 8, Article 3. Classifications', 'A glazing contractor selects, cuts, assembles and/or installs all makes and kinds of glass, glass work, mirrored glass, and glass substitute materials for glazing; executes the fabrication and glazing of frames, panels, sashes and doors; and/or installs these items in any structure.', 'Authority cited: Sections 7008 and 7059, Reference: Sections 7058 and 7059 (Business and Professions Code)']\n",
            "['D26', 'Mobile Home Installation and Repairs (Converted to C47)', 'California Code of Regulations Title 16, Division 8, Article 3. Classifications', '(a) A general manufactured housing contractor installs, alters, repairs, or prepares for moving any type of manufactured home as defined in Section 18007 of the Health and Safety Code, any type of mobilehome as defined in Section 18008 of the Health and Safety Code, and any type of multifamily manufactured home as defined in Section 18008.7 of the Health and Safety Code, including the accessory buildings or structures, and the foundations. A manufactured home does not include any recreational vehicle, commercial coach, or factory-built housing as defined in Section 19971 of the Health and Safety Code', '(b) A general manufactured housing contractor may provide utility services on a single-family individual site placement. Utility services mean the connection of gas, water, sewer, and electrical utilities to the home.', 'Authority cited: Sections 7008 and 7059, Reference: Sections 7026.11, 7058, and 7059 (Business and Professions Code)']\n",
            "['D27', 'Movable Partitions (Now under D34)', 'California Code of Regulations Title 16, Division 8, Article 3. Classifications', 'A prefabricated products/equipment contractor performs installations of prefabricated products/equipment, including but not limited to the following:']\n",
            "['D28', 'Doors, Gates and Activating Devices', 'California Code of Regulations Title 16, Division 8, Article 3. Classifications', 'A doors, gates and activating devices contractor installs, modifies or repairs all types of residential, commercial or industrial doors including overhead or sliding door assemblies. This includes but is not limited to: wood and screen doors, metal-clad doors, glass sliding/stationary doors and frames, automatic revolving doors, hospital cubical doors and related installations, power activated doors, gates, movable sun shades/shutters, card activated equipment and other access control device and any low voltage electronic or manually operated door hardware/ device.']\n",
            "['D29', 'Paperhanging', 'California Code of Regulations Title 16, Division 8, Article 3. Classifications', 'A paperhanging contractor applies all types and varieties of decorative wall coverings, except painting or paneling, including paper and vinyl goods, cork, burlap and carpet-type wall coverings.']\n",
            "['D30', 'Pile Driving and Pressure Foundation Jacking', 'California Code of Regulations Title 16, Division 8, Article 3. Classifications', 'A pile driving and pressure foundation jacking contractor provides a pile driving and/or caisson drilling or auger service. This work also includes but is not limited to the injection of concrete or mortar into foundations for stabilization purposes.']\n",
            "['D31', 'Pole Installation and Maintenance', 'California Code of Regulations Title 16, Division 8, Article 3. Classifications', 'A pole installation and maintenance contractor installs wood or precast poles to support the wiring or cable that is installed by others or installs and maintains flag poles.']\n",
            "['D32', 'Power Nailing and Fastening (Now under D64)', 'California Code of Regulations Title 16, Division 8, Article 3. Classifications', 'A nonspecialized contractor installs, modifies, maintains and repairs new products and/or new installations which are not defined in any section herein or defined in any license classification authorized by the Board under Chapter 9, Division 3 of the Business and Professions Code (Contractors License Law).']\n",
            "['D33', 'Precast Concrete Stairs (Now under C29)', 'California Code of Regulations Title 16, Division 8, Article 3. Classifications', 'A masonry contractor installs concrete units and baked clay products; concrete, glass and clay block; natural and manufactured stone; terra cotta; and fire brick or other material for refractory work. This classification includes the fabrication and installation of masonry component units for structural load bearing and non-load bearing walls for structures and fences installed with or without mortar; ceramic veneer (not tile) and thin brick that resembles full brick for facing; paving; and clear waterproofing, cleaning and caulking incidental to masonry construction.', 'Authority cited: Sections 7008 and 7059, Reference: Sections 7058 and 7059 (Business and Professions Code)']\n",
            "['D34', 'Prefabricated Equipment', 'California Code of Regulations Title 16, Division 8, Article 3. Classifications', 'A prefabricated products/equipment contractor performs installations of prefabricated products/equipment, including but not limited to the following:']\n",
            "['D35', 'Pool and Spa Maintenance', 'California Code of Regulations Title 16, Division 8, Article 3. Classifications', 'A pool and spa maintenance contractor installs, replaces or repairs pool motors, pumps, filters, gas heaters and any above ground piping in connection with pools; includes electrical switches, breakers, pool lights, diving boards, existing solar systems that heat pools, pool and spa acid baths and applies vinyl liners to existing surfaces.']\n",
            "['D36', 'Rigging and Rig Building (Now under \"A\")', 'Business & Professions Code Division 3, Chapter 9. Contractors, Article 4. Classifications', '7056. A general engineering contractor is a contractor whose principal contracting business is in connection with fixed works requiring specialized engineering knowledge and skill, including the following divisions or subjects: irrigation, drainage, water power, water supply, flood control, inland waterways, harbors, docks and wharves, shipyards and ports, dams and hydroelectric projects, levees, river control and reclamation works, railroads, highways, streets and roads, tunnels, airports and airways, sewers and sewage disposal plants and systems, waste reduction plants, bridges, overpasses, underpasses and other similar works, pipelines and other systems for the transmission of petroleum and other liquid or gaseous substances, parks, playgrounds and other recreational works, refineries, chemical plants and similar industrial plants requiring specialized engineering knowledge and skill, powerhouses, power plants and other utility plants and installations, mines and metallurgical plants, land leveling and earthmoving projects, excavating, grading, trenching, paving and surfacing work and cement and concrete works in connection with the above mentioned fixed works.']\n",
            "['D37', 'Safes and Vaults (Now under D16)', 'California Code of Regulations Title 16, Division 8, Article 3. Classifications', 'A hardware, locks and safes contractor installs, modifies or repairs power and/or manually activated door and window locks with related hardware, built-in safes and vaults.']\n",
            "['D38', 'Sand and Water Blasting', 'California Code of Regulations Title 16, Division 8, Article 3. Classifications', 'A sand and water blasting contractor uses the force of compressed air in conjunction with abrasive materials or water to clean or prepare surfaces for any protective, decorative and/or functional treatment.']\n",
            "['D39', 'Scaffolding', 'California Code of Regulations Title 16, Division 8, Article 3. Classifications', 'A scaffolding contractor erects metal or wood scaffolding including temporary sidewalk sheltered construction work barricades.']\n",
            "['D40', 'Service Station Equipment and Maintenance', 'California Code of Regulations Title 16, Division 8, Article 3. Classifications', 'A service station maintenance contractor installs, repairs, maintains or calibrates monitoring equipment for underground fuel storage tanks up to 20,000 gallons which have been or are to be used for dispensing gasoline, diesel fuel, waste oil or kerosene (no chemicals). This includes the installation of vapor probes in back fill areas of the tanks and any associated calibration work, including but not limited to the testing and adjustment of leak detection and vapor recovery equipment, such as automatic tank gauges, leak line detectors, vapor recovery lines, and in-station diagnostics.', 'Note for Those Holding a License with this Classification Issued Prior to January 18, 2001: You may perform all the work as described above, as well as install and/or remove the underground fuel storage tanks themselves, including the installation and/or removal of all incidental tank related piping and electrical work, and the installation of auto hoisting equipment, grease racks, compressors, air hoses, and other service station equipment.']\n",
            "['D41', 'Siding and Decking', 'California Code of Regulations Title 16, Division 8, Article 3. Classifications', 'A siding and decking contractor applies or installs all types of exterior siding including wood, wood products, vinyl, aluminum and metal siding to new or existing buildings. This contractor also constructs wooden decks and related handrails. This work shall not include the construction or installation of covers or enclosures of any kind.']\n",
            "['D42', 'NonElectrical Sign Installation', 'California Code of Regulations Title 16, Division 8, Article 3. Classifications', 'A non-electrical sign installation contractor fabricates and installs all types of non-electrical signs, including but not limited to: post or pole supported signs, signs attached to structures, painted wall signs and modifications to existing signs.']\n",
            "['D43', 'Soil Grouting (Now under C32, C12 or \"A\")', 'California Code of Regulations Title 16, Division 8, Article 3. Classifications', 'A parking and highway improvement contractor applies and installs protective coatings, vehicle stops, guard rails and mechanical devices, directional lines, buttons, markers, signs and arrows on the horizontal surface of any game court, parking facility, airport, highway or roadway constructed of concrete, asphalt or similar material. This classification includes the surface preparatory work necessary for the application of protective coatings but does not include the re-paving of these surfaces.', 'Authority cited: Sections 7008 and 7059, Reference: Sections 7058 and 7059 (Business and Professions Code)', 'California Code of Regulations Title 16, Division 8, Article 3. Classifications', 'An earthwork and paving contractor digs, moves, and places material forming the surface of the earth, other than water, in such a manner that a cut, fill, excavation, grade, trench, backfill, or tunnel (if incidental thereto) can be executed, including the use of explosives for these purposes. This classification includes the mixing, fabricating and placing of paving and any other surfacing materials.', 'Authority cited: Sections 7008 and 7059, Reference: Sections 7058 and 7059 (Business and Professions Code)', 'Business & Professions Code Division 3, Chapter 9. Contractors, Article 4. Classifications', '7056. A general engineering contractor is a contractor whose principal contracting business is in connection with fixed works requiring specialized engineering knowledge and skill, including the following divisions or subjects: irrigation, drainage, water power, water supply, flood control, inland waterways, harbors, docks and wharves, shipyards and ports, dams and hydroelectric projects, levees, river control and reclamation works, railroads, highways, streets and roads, tunnels, airports and airways, sewers and sewage disposal plants and systems, waste reduction plants, bridges, overpasses, underpasses and other similar works, pipelines and other systems for the transmission of petroleum and other liquid or gaseous substances, parks, playgrounds and other recreational works, refineries, chemical plants and similar industrial plants requiring specialized engineering knowledge and skill, powerhouses, power plants and other utility plants and installations, mines and metallurgical plants, land leveling and earthmoving projects, excavating, grading, trenching, paving and surfacing work and cement and concrete works in connection with the above mentioned fixed works.']\n",
            "['D44', 'Sprinklers (Now under D12)', 'California Code of Regulations Title 16, Division 8, Article 3. Classifications', 'A synthetic products contractor installs:']\n",
            "['D45', 'Staff and Stone (Now under C29)', 'California Code of Regulations Title 16, Division 8, Article 3. Classifications', 'A masonry contractor installs concrete units and baked clay products; concrete, glass and clay block; natural and manufactured stone; terra cotta; and fire brick or other material for refractory work. This classification includes the fabrication and installation of masonry component units for structural load bearing and non-load bearing walls for structures and fences installed with or without mortar; ceramic veneer (not tile) and thin brick that resembles full brick for facing; paving; and clear waterproofing, cleaning and caulking incidental to masonry construction.', 'Authority cited: Sections 7008 and 7059, Reference: Sections 7058 and 7059 (Business and Professions Code)']\n",
            "['D46', 'Steeple Jack Work (under relevant class)']\n",
            "['D47', 'Tennis Court Surfacing (Now under C12 or \"A\")', 'California Code of Regulations Title 16, Division 8, Article 3. Classifications', 'An earthwork and paving contractor digs, moves, and places material forming the surface of the earth, other than water, in such a manner that a cut, fill, excavation, grade, trench, backfill, or tunnel (if incidental thereto) can be executed, including the use of explosives for these purposes. This classification includes the mixing, fabricating and placing of paving and any other surfacing materials.', 'Authority cited: Sections 7008 and 7059, Reference: Sections 7058 and 7059 (Business and Professions Code)', 'Business & Professions Code Division 3, Chapter 9. Contractors, Article 4. Classifications', '7056. A general engineering contractor is a contractor whose principal contracting business is in connection with fixed works requiring specialized engineering knowledge and skill, including the following divisions or subjects: irrigation, drainage, water power, water supply, flood control, inland waterways, harbors, docks and wharves, shipyards and ports, dams and hydroelectric projects, levees, river control and reclamation works, railroads, highways, streets and roads, tunnels, airports and airways, sewers and sewage disposal plants and systems, waste reduction plants, bridges, overpasses, underpasses and other similar works, pipelines and other systems for the transmission of petroleum and other liquid or gaseous substances, parks, playgrounds and other recreational works, refineries, chemical plants and similar industrial plants requiring specialized engineering knowledge and skill, powerhouses, power plants and other utility plants and installations, mines and metallurgical plants, land leveling and earthmoving projects, excavating, grading, trenching, paving and surfacing work and cement and concrete works in connection with the above mentioned fixed works.']\n",
            "['D48', 'Theater and School Equipment (Now under D34)', 'California Code of Regulations Title 16, Division 8, Article 3. Classifications', 'A prefabricated products/equipment contractor performs installations of prefabricated products/equipment, including but not limited to the following:']\n",
            "['D49 – Tree Service (Converted to C49)', 'California Code of Regulations Title 16, Division 8, Article 3. Classifications', 'A tree service contractor prunes trees, removes trees, limbs or stumps (including grinding) and engages in tree or limb guying.']\n",
            "['D50', 'Suspended Ceilings', 'California Code of Regulations Title 16, Division 8, Article 3. Classifications', 'A suspended ceilings contractor installs, modifies or repairs all types of suspended ceilings, including but not limited to the following: lay-in-grid and other types of systems involving solid, perforated or translucent ceiling panels (no electrical work).']\n",
            "['D51', 'Waterproofing and Weatherproofing (under relevant class)']\n",
            "['D52', 'Window Coverings', 'California Code of Regulations Title 16, Division 8, Article 3. Classifications', 'A window coverings contractor installs or applies decorative, architectural/ functional window/glass treatment or covering products, including but not limited to the following: all types of materials and fabrics that make up louvers, shutters, Venetian and mini-blinds; residential or commercial draperies and screens; expanded metal window and door guards; plastic film window treatment and/or any other window treatment applied for temperature control or as a screening device.']\n",
            "['D53', 'Wood Tanks', 'California Code of Regulations Title 16, Division 8, Article 3. Classifications', 'A wood tanks contractor erects or repairs elevated wooden storage tanks and related cooling towers. (Hot tubs are not included.)']\n",
            "['D54', 'Rockscaping (Now under C15 or C27)', 'California Code of Regulations Title 16, Division 8, Article 3. Classifications', 'A flooring and floor covering contractor prepares any surface for the installation of flooring and floor coverings, and installs carpet, resilient sheet goods, resilient tile, wood floors and flooring (including the finishing and repairing thereof), and any other materials established as flooring and floor covering material, except ceramic tile.', 'Authority cited: Sections 7008 and 7059, Reference: Sections 7058 and 7059 (Business and Professions Code)', 'California Code of Regulations Title 16, Division 8, Article 3. Classifications', 'A landscape contractor constructs, maintains, repairs, installs, or subcontracts the development of landscape systems and facilities for public and private gardens and other areas which are designed to aesthetically, architecturally, horticulturally, or functionally improve the grounds within or surrounding a structure or a tract or plot of land. In connection therewith, a landscape contractor prepares and grades plots and areas of land for the installation of any architectural, horticultural and decorative treatment or arrangement.', 'Authority cited: Sections 7008 and 7059, Reference: Sections 7058 and 7059 (Business and Professions Code)']\n",
            "['D55', 'Blasting (Now under C12 or \"A\")', 'California Code of Regulations Title 16, Division 8, Article 3. Classifications', 'An earthwork and paving contractor digs, moves, and places material forming the surface of the earth, other than water, in such a manner that a cut, fill, excavation, grade, trench, backfill, or tunnel (if incidental thereto) can be executed, including the use of explosives for these purposes. This classification includes the mixing, fabricating and placing of paving and any other surfacing materials.', 'Authority cited: Sections 7008 and 7059, Reference: Sections 7058 and 7059 (Business and Professions Code)', 'Business & Professions Code Division 3, Chapter 9. Contractors, Article 4. Classifications', '7056. A general engineering contractor is a contractor whose principal contracting business is in connection with fixed works requiring specialized engineering knowledge and skill, including the following divisions or subjects: irrigation, drainage, water power, water supply, flood control, inland waterways, harbors, docks and wharves, shipyards and ports, dams and hydroelectric projects, levees, river control and reclamation works, railroads, highways, streets and roads, tunnels, airports and airways, sewers and sewage disposal plants and systems, waste reduction plants, bridges, overpasses, underpasses and other similar works, pipelines and other systems for the transmission of petroleum and other liquid or gaseous substances, parks, playgrounds and other recreational works, refineries, chemical plants and similar industrial plants requiring specialized engineering knowledge and skill, powerhouses, power plants and other utility plants and installations, mines and metallurgical plants, land leveling and earthmoving projects, excavating, grading, trenching, paving and surfacing work and cement and concrete works in connection with the above mentioned fixed works.']\n",
            "['D56', 'Trenching Only']\n",
            "['D57', 'Propane Gas Plants (Now under \"A\")', 'Business & Professions Code Division 3, Chapter 9. Contractors, Article 4. Classifications', '7056. A general engineering contractor is a contractor whose principal contracting business is in connection with fixed works requiring specialized engineering knowledge and skill, including the following divisions or subjects: irrigation, drainage, water power, water supply, flood control, inland waterways, harbors, docks and wharves, shipyards and ports, dams and hydroelectric projects, levees, river control and reclamation works, railroads, highways, streets and roads, tunnels, airports and airways, sewers and sewage disposal plants and systems, waste reduction plants, bridges, overpasses, underpasses and other similar works, pipelines and other systems for the transmission of petroleum and other liquid or gaseous substances, parks, playgrounds and other recreational works, refineries, chemical plants and similar industrial plants requiring specialized engineering knowledge and skill, powerhouses, power plants and other utility plants and installations, mines and metallurgical plants, land leveling and earthmoving projects, excavating, grading, trenching, paving and surfacing work and cement and concrete works in connection with the above mentioned fixed works.']\n",
            "['D58', 'Residential Floating Docks (Now under \"A\")', 'Business & Professions Code Division 3, Chapter 9. Contractors, Article 4. Classifications', '7056. A general engineering contractor is a contractor whose principal contracting business is in connection with fixed works requiring specialized engineering knowledge and skill, including the following divisions or subjects: irrigation, drainage, water power, water supply, flood control, inland waterways, harbors, docks and wharves, shipyards and ports, dams and hydroelectric projects, levees, river control and reclamation works, railroads, highways, streets and roads, tunnels, airports and airways, sewers and sewage disposal plants and systems, waste reduction plants, bridges, overpasses, underpasses and other similar works, pipelines and other systems for the transmission of petroleum and other liquid or gaseous substances, parks, playgrounds and other recreational works, refineries, chemical plants and similar industrial plants requiring specialized engineering knowledge and skill, powerhouses, power plants and other utility plants and installations, mines and metallurgical plants, land leveling and earthmoving projects, excavating, grading, trenching, paving and surfacing work and cement and concrete works in connection with the above mentioned fixed works.']\n",
            "['D59', 'Hydroseed Spraying', 'California Code of Regulations Title 16, Division 8, Article 3. Classifications', 'A hydroseed spraying contractor applies seeds through any liquid media to any type of surface that has been prepared or contoured by others.']\n",
            "['D60', 'Striping (Now under C32)', 'California Code of Regulations Title 16, Division 8, Article 3. Classifications', 'A parking and highway improvement contractor applies and installs protective coatings, vehicle stops, guard rails and mechanical devices, directional lines, buttons, markers, signs and arrows on the horizontal surface of any game court, parking facility, airport, highway or roadway constructed of concrete, asphalt or similar material. This classification includes the surface preparatory work necessary for the application of protective coatings but does not include the re-paving of these surfaces.', 'Authority cited: Sections 7008 and 7059, Reference: Sections 7058 and 7059 (Business and Professions Code)']\n",
            "['D61', 'Gold Leaf Gilding (Now under D64)', 'California Code of Regulations Title 16, Division 8, Article 3. Classifications', 'A nonspecialized contractor installs, modifies, maintains and repairs new products and/or new installations which are not defined in any section herein or defined in any license classification authorized by the Board under Chapter 9, Division 3 of the Business and Professions Code (Contractors License Law).']\n",
            "['D62', 'Air and Water Balancing', 'California Code of Regulations Title 16, Division 8, Article 3. Classifications', 'An air and water balancing contractor installs any device and performs any work related to providing a specified flow of air in all types of existing heating and cooling systems and/or related to providing a specified flow of water in water piping systems.']\n",
            "['D63', 'Construction Cleanup', 'California Code of Regulations Title 16, Division 8, Article 3. Classifications', 'A construction cleanup contractor cleans up and/or removes from building grounds or structures any debris resultant from any construction project including but not limited to: concrete, dirt, scrap lumber, plaster, drywall, any paint or adhesive products from windows, floors, ceramic tile and bathroom fixtures.']\n",
            "['D64', 'Nonspecialized', 'California Code of Regulations Title 16, Division 8, Article 3. Classifications', 'A nonspecialized contractor installs, modifies, maintains and repairs new products and/or new installations which are not defined in any section herein or defined in any license classification authorized by the Board under Chapter 9, Division 3 of the Business and Professions Code (Contractors License Law).']\n",
            "['D65', 'Weatherization and Energy Conservation', 'California Code of Regulations Title 16, Division 8, Article 3. Classifications', 'A weatherization and energy conservation contractor installs, removes, modifies or repairs or provides maintenance services for energy conservation products limited to the following: door and window weather stripping, caulking, water heater pipe wrap, water heater blankets, insulating gaskets for electrical outlet covers, shade screens, shutters, storm windows, tinted window film, residential water flow restricting devices installed onto existing fixture. (DOES NOT INCLUDE INSULATION, GLAZING OR HEATING VENTILATING AND AIR CONDITIONING WORK)']\n"
          ]
        }
      ]
    }
  ]
}